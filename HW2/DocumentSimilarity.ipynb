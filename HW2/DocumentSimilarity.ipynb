{
 "cells": [
  {
   "cell_type": "markdown",
   "metadata": {},
   "source": [
    "## Document Similarity"
   ]
  },
  {
   "cell_type": "code",
   "execution_count": 1,
   "metadata": {},
   "outputs": [
    {
     "name": "stdout",
     "output_type": "stream",
     "text": [
      "Requirement already satisfied: nltk in /opt/conda/lib/python3.6/site-packages (3.4)\n",
      "Requirement already satisfied: singledispatch in /opt/conda/lib/python3.6/site-packages (from nltk) (3.4.0.3)\n",
      "Requirement already satisfied: six in /opt/conda/lib/python3.6/site-packages (from nltk) (1.12.0)\n"
     ]
    }
   ],
   "source": [
    "!pip install nltk"
   ]
  },
  {
   "cell_type": "code",
   "execution_count": 2,
   "metadata": {},
   "outputs": [
    {
     "name": "stderr",
     "output_type": "stream",
     "text": [
      "[nltk_data] Downloading package punkt to /home/jovyan/nltk_data...\n",
      "[nltk_data]   Package punkt is already up-to-date!\n",
      "[nltk_data] Downloading package wordnet to /home/jovyan/nltk_data...\n",
      "[nltk_data]   Package wordnet is already up-to-date!\n",
      "[nltk_data] Downloading package stopwords to /home/jovyan/nltk_data...\n",
      "[nltk_data]   Package stopwords is already up-to-date!\n"
     ]
    }
   ],
   "source": [
    "import text_transformer"
   ]
  },
  {
   "cell_type": "markdown",
   "metadata": {},
   "source": [
    "### Exercise 1:\n",
    "Plot an histogram of the word vocabulary of “Alice in Wonderland”.\n",
    "(number of words vs. frequency). (bins of size 1)."
   ]
  },
  {
   "cell_type": "code",
   "execution_count": 3,
   "metadata": {
    "scrolled": true
   },
   "outputs": [
    {
     "name": "stderr",
     "output_type": "stream",
     "text": [
      "[nltk_data] Downloading package gutenberg to /home/jovyan/nltk_data...\n",
      "[nltk_data]   Package gutenberg is already up-to-date!\n",
      "[nltk_data] Downloading package punkt to /home/jovyan/nltk_data...\n",
      "[nltk_data]   Package punkt is already up-to-date!\n"
     ]
    }
   ],
   "source": [
    "import nltk\n",
    "nltk.download(\"gutenberg\")\n",
    "nltk.download(\"punkt\")\n",
    "alice = \"carroll-alice.txt\"\n",
    "sents = nltk.corpus.gutenberg.sents(alice)"
   ]
  },
  {
   "cell_type": "markdown",
   "metadata": {},
   "source": [
    "#### Colect occurrences"
   ]
  },
  {
   "cell_type": "code",
   "execution_count": 4,
   "metadata": {},
   "outputs": [
    {
     "name": "stdout",
     "output_type": "stream",
     "text": [
      "Tokens 34113\n",
      "Distinct tokens 3015\n"
     ]
    }
   ],
   "source": [
    "flatten = list(text_transformer.flatten(sents))\n",
    "size = len(flatten)\n",
    "ocorrences = text_transformer.count_frequencies(flatten)\n",
    "\n",
    "print(\"Tokens\",size)\n",
    "print(\"Distinct tokens\",len(ocorrences))"
   ]
  },
  {
   "cell_type": "markdown",
   "metadata": {},
   "source": [
    "__Sort by occurrences__"
   ]
  },
  {
   "cell_type": "code",
   "execution_count": 5,
   "metadata": {},
   "outputs": [
    {
     "name": "stdout",
     "output_type": "stream",
     "text": [
      "5 most frequent tokens [(',', 1993), (\"'\", 1732), ('the', 1527), ('and', 802), ('.', 764)]\n"
     ]
    }
   ],
   "source": [
    "ocorrences.sort(reverse=True, key=lambda token_count: token_count[1])\n",
    "\n",
    "print(\"5 most frequent tokens\",ocorrences[0:5])"
   ]
  },
  {
   "cell_type": "markdown",
   "metadata": {},
   "source": [
    "#### Make the the plot"
   ]
  },
  {
   "cell_type": "code",
   "execution_count": 6,
   "metadata": {},
   "outputs": [
    {
     "data": {
      "text/plain": [
       "<matplotlib.axes._subplots.AxesSubplot at 0x7fc1843a7fd0>"
      ]
     },
     "execution_count": 6,
     "metadata": {},
     "output_type": "execute_result"
    }
   ],
   "source": [
    "import seaborn as sns\n",
    "\n",
    "frequencies = [ token_count[1]/size for token_count in ocorrences]\n",
    "sns.scatterplot(x=range(0,len(ocorrences)), y=frequencies, marker='+')"
   ]
  },
  {
   "cell_type": "markdown",
   "metadata": {},
   "source": [
    "### Exercise 2: \n",
    "Then process the text: normalize, lemmatize, stop word removal, etc..\n",
    "and plot the histogram again. (use nltk implementation). What happened? Describe\n",
    "what changed in the frequency distribution of words."
   ]
  },
  {
   "cell_type": "markdown",
   "metadata": {},
   "source": [
    "#### Apply processing to tokens and collect occurrences"
   ]
  },
  {
   "cell_type": "code",
   "execution_count": 7,
   "metadata": {},
   "outputs": [
    {
     "name": "stdout",
     "output_type": "stream",
     "text": [
      "Tokens 13946\n",
      "Distinct tokens 2339\n"
     ]
    }
   ],
   "source": [
    "processed_tokens = text_transformer.normalizer(flatten)\n",
    "processed_tokens = text_transformer.lemmatizer(processed_tokens) \n",
    "processed_ocorrences = text_transformer.count_frequencies(processed_tokens)\n",
    "\n",
    "\n",
    "print(\"Tokens\",len(processed_tokens))\n",
    "print(\"Distinct tokens\",len(processed_ocorrences))"
   ]
  },
  {
   "cell_type": "markdown",
   "metadata": {},
   "source": [
    "__Sort occurrences__"
   ]
  },
  {
   "cell_type": "code",
   "execution_count": 8,
   "metadata": {},
   "outputs": [
    {
     "name": "stdout",
     "output_type": "stream",
     "text": [
      "5 most frequent tokens [('i', 543), ('said', 462), ('alice', 398), ('little', 128), ('the', 115)]\n"
     ]
    }
   ],
   "source": [
    "processed_ocorrences.sort(reverse=True, key=lambda token_count: token_count[1])\n",
    "print(\"5 most frequent tokens\",processed_ocorrences[0:5])"
   ]
  },
  {
   "cell_type": "markdown",
   "metadata": {},
   "source": [
    "#### Make the plot"
   ]
  },
  {
   "cell_type": "code",
   "execution_count": 9,
   "metadata": {
    "scrolled": true
   },
   "outputs": [
    {
     "data": {
      "text/plain": [
       "<matplotlib.axes._subplots.AxesSubplot at 0x7fc181b65978>"
      ]
     },
     "execution_count": 9,
     "metadata": {},
     "output_type": "execute_result"
    },
    {
     "data": {
      "image/png": "[encoded data removed]",
      "text/plain": [
       "<Figure size 432x288 with 1 Axes>"
      ]
     },
     "metadata": {
      "needs_background": "light"
     },
     "output_type": "display_data"
    }
   ],
   "source": [
    "import seaborn as sns\n",
    "\n",
    "processed_frequencies = [word[1]/size for word in processed_ocorrences]\n",
    "sns.scatterplot(x=range(0,len(processed_ocorrences)), y=processed_frequencies, marker='x')"
   ]
  },
  {
   "cell_type": "markdown",
   "metadata": {},
   "source": [
    "### Exercise 3:\n",
    "Build the term-document matrix for the collection in “books”.Find the most similar document content to the “Alice in Wonderland” using tf-idf and cosine similarity."
   ]
  },
  {
   "cell_type": "code",
   "execution_count": 10,
   "metadata": {},
   "outputs": [],
   "source": [
    "import text_transformer as tt"
   ]
  },
  {
   "cell_type": "code",
   "execution_count": 11,
   "metadata": {},
   "outputs": [],
   "source": [
    "books = ['shakespeare-macbeth.txt',\n",
    "         'chesterton-ball.txt',\n",
    "         'melville-moby_dick.txt',\n",
    "         'austen-sense.txt',\n",
    "         'carroll-alice.txt']\n",
    "\n",
    "# inspired by https://medium.freecodecamp.org/how-to-process-textual-data-using-tf-idf-in-python-cd2bbc0a94a3"
   ]
  },
  {
   "cell_type": "code",
   "execution_count": 12,
   "metadata": {},
   "outputs": [],
   "source": [
    "book_list = {\"macbeth\": nltk.corpus.gutenberg.sents(books[0]),\n",
    "             \"ball\": nltk.corpus.gutenberg.sents(books[1]),\n",
    "             \"moby_dick\": nltk.corpus.gutenberg.sents(books[2]), \n",
    "             \"sense\": nltk.corpus.gutenberg.sents(books[3]),\n",
    "             \"alice\":nltk.corpus.gutenberg.sents(books[4])}"
   ]
  },
  {
   "cell_type": "code",
   "execution_count": 13,
   "metadata": {},
   "outputs": [],
   "source": [
    "for key, val in book_list.items():\n",
    "    book_list[key] = list(tt.flatten(val))"
   ]
  },
  {
   "cell_type": "code",
   "execution_count": 14,
   "metadata": {},
   "outputs": [],
   "source": [
    "for key, val in book_list.items():\n",
    "    book_list[key] = tt.normalizer(val)"
   ]
  },
  {
   "cell_type": "code",
   "execution_count": 15,
   "metadata": {},
   "outputs": [],
   "source": [
    "# the term frequency measures how often a term occurs in a document\n",
    "# formula: simply count\n",
    "def computeTF (word_dict):\n",
    "    tfDict = {}\n",
    "    for word, count in word_dict:\n",
    "        tfDict[word] = count # <- the very very raw count\n",
    "\n",
    "    return tfDict"
   ]
  },
  {
   "cell_type": "code",
   "execution_count": 16,
   "metadata": {},
   "outputs": [],
   "source": [
    "# the IDF (inverted document frequency) is measuring the frequency a word exists in a document and invert this number\n",
    "# formula: log(total number of documents/number of documents the word exist in)\n",
    "def computeIDF (docDict):\n",
    "    doclist = docDict.values() #transform the dict into a list\n",
    "    import math\n",
    "    idfDict = {}\n",
    "    N = len(doclist) # get number of docs in collection\n",
    "    \n",
    "    for doc in doclist:\n",
    "        for word in set(doc): #the set is necessary to get only distinct words from each document\n",
    "\n",
    "            if word in idfDict:     # increment the count by one for each document \n",
    "                idfDict[word] += 1  # if the word hasn't been added to the dict yet, do\n",
    "            else:\n",
    "                idfDict[word] = 1\n",
    "\n",
    "    for word, val in idfDict.items():\n",
    "        idfDict[word] = math.log10(N/float(val)) #  <- magic formula\n",
    "    \n",
    "    return idfDict"
   ]
  },
  {
   "cell_type": "code",
   "execution_count": 17,
   "metadata": {},
   "outputs": [],
   "source": [
    "# formula: (1+ log(TF)) * IDF\n",
    "def computeTFIDF(tfDict, idfDict):\n",
    "    import math\n",
    "    tfidf = {}\n",
    "    for word, val in tfDict.items():\n",
    "        tfidf[word] = (1 + math.log(val))*idfDict[word]\n",
    "        \n",
    "    return tfidf"
   ]
  },
  {
   "cell_type": "code",
   "execution_count": 18,
   "metadata": {},
   "outputs": [],
   "source": [
    "alice_freq = tt.count_frequencies(book_list[\"alice\"])"
   ]
  },
  {
   "cell_type": "code",
   "execution_count": 19,
   "metadata": {},
   "outputs": [],
   "source": [
    "alice_TF = computeTF(alice_freq)"
   ]
  },
  {
   "cell_type": "code",
   "execution_count": 20,
   "metadata": {},
   "outputs": [],
   "source": [
    "IDF = computeIDF(book_list)"
   ]
  },
  {
   "cell_type": "code",
   "execution_count": 21,
   "metadata": {},
   "outputs": [],
   "source": [
    "alice_TFIDF = computeTFIDF(alice_TF, IDF)"
   ]
  },
  {
   "cell_type": "markdown",
   "metadata": {},
   "source": [
    "### Cosine Similarity"
   ]
  },
  {
   "cell_type": "code",
   "execution_count": 28,
   "metadata": {},
   "outputs": [],
   "source": [
    "import pandas as pd\n",
    "import numpy as np\n",
    "import math"
   ]
  },
  {
   "cell_type": "code",
   "execution_count": 25,
   "metadata": {},
   "outputs": [],
   "source": [
    "for i, book in enumerate(book_list):\n",
    "    if i == 0:\n",
    "        df = pd.DataFrame(tt.count_frequencies(book_list[book])).set_index(0)\n",
    "        df.columns = [book]\n",
    "    else:\n",
    "        temp_df = pd.DataFrame(tt.count_frequencies(book_list[book])).set_index(0)\n",
    "        temp_df.columns = [book]\n",
    "        df = df.join(temp_df)"
   ]
  },
  {
   "cell_type": "code",
   "execution_count": 29,
   "metadata": {},
   "outputs": [],
   "source": [
    "cosine = df.applymap(math.log10)"
   ]
  },
  {
   "cell_type": "code",
   "execution_count": 30,
   "metadata": {},
   "outputs": [],
   "source": [
    "cosine = cosine.fillna(0)"
   ]
  },
  {
   "cell_type": "code",
   "execution_count": 31,
   "metadata": {},
   "outputs": [],
   "source": [
    "cosine_exp = cosine.applymap(lambda x: x**2)"
   ]
  },
  {
   "cell_type": "code",
   "execution_count": 32,
   "metadata": {},
   "outputs": [],
   "source": [
    "sum_list = cosine_exp.sum(axis=0)"
   ]
  },
  {
   "cell_type": "code",
   "execution_count": 33,
   "metadata": {},
   "outputs": [],
   "source": [
    "sum_list = np.sqrt(sum_list)"
   ]
  },
  {
   "cell_type": "code",
   "execution_count": 34,
   "metadata": {},
   "outputs": [],
   "source": [
    "cosine_length = cosine/sum_list"
   ]
  },
  {
   "cell_type": "code",
   "execution_count": 40,
   "metadata": {},
   "outputs": [],
   "source": [
    "cosine.head()"
   ]
  },
  {
   "cell_type": "code",
   "execution_count": 41,
   "metadata": {},
   "outputs": [],
   "source": [
    "similarities = pd.DataFrame(columns = book_list.keys())\n",
    "for book in book_list:\n",
    "    temp = []\n",
    "    for another_book in book_list:\n",
    "        temp.append((cosine_length[book] * cosine_length[another_book]).sum())\n",
    "    similarities.loc[book] = temp"
   ]
  },
  {
   "cell_type": "code",
   "execution_count": 42,
   "metadata": {},
   "outputs": [
    {
     "data": {
      "text/html": [
       "<div>\n",
       "<style scoped>\n",
       "    .dataframe tbody tr th:only-of-type {\n",
       "        vertical-align: middle;\n",
       "    }\n",
       "\n",
       "    .dataframe tbody tr th {\n",
       "        vertical-align: top;\n",
       "    }\n",
       "\n",
       "    .dataframe thead th {\n",
       "        text-align: right;\n",
       "    }\n",
       "</style>\n",
       "<table border=\"1\" class=\"dataframe\">\n",
       "  <thead>\n",
       "    <tr style=\"text-align: right;\">\n",
       "      <th></th>\n",
       "      <th>macbeth</th>\n",
       "      <th>ball</th>\n",
       "      <th>moby_dick</th>\n",
       "      <th>sense</th>\n",
       "      <th>alice</th>\n",
       "    </tr>\n",
       "  </thead>\n",
       "  <tbody>\n",
       "    <tr>\n",
       "      <th>macbeth</th>\n",
       "      <td>1.000000</td>\n",
       "      <td>0.601144</td>\n",
       "      <td>0.620574</td>\n",
       "      <td>0.575267</td>\n",
       "      <td>0.534295</td>\n",
       "    </tr>\n",
       "    <tr>\n",
       "      <th>ball</th>\n",
       "      <td>0.601144</td>\n",
       "      <td>1.000000</td>\n",
       "      <td>0.860933</td>\n",
       "      <td>0.814500</td>\n",
       "      <td>0.800858</td>\n",
       "    </tr>\n",
       "    <tr>\n",
       "      <th>moby_dick</th>\n",
       "      <td>0.620574</td>\n",
       "      <td>0.860933</td>\n",
       "      <td>1.000000</td>\n",
       "      <td>0.798431</td>\n",
       "      <td>0.722317</td>\n",
       "    </tr>\n",
       "    <tr>\n",
       "      <th>sense</th>\n",
       "      <td>0.575267</td>\n",
       "      <td>0.814500</td>\n",
       "      <td>0.798431</td>\n",
       "      <td>1.000000</td>\n",
       "      <td>0.742270</td>\n",
       "    </tr>\n",
       "    <tr>\n",
       "      <th>alice</th>\n",
       "      <td>0.534295</td>\n",
       "      <td>0.800858</td>\n",
       "      <td>0.722317</td>\n",
       "      <td>0.742270</td>\n",
       "      <td>1.000000</td>\n",
       "    </tr>\n",
       "  </tbody>\n",
       "</table>\n",
       "</div>"
      ],
      "text/plain": [
       "            macbeth      ball  moby_dick     sense     alice\n",
       "macbeth    1.000000  0.601144   0.620574  0.575267  0.534295\n",
       "ball       0.601144  1.000000   0.860933  0.814500  0.800858\n",
       "moby_dick  0.620574  0.860933   1.000000  0.798431  0.722317\n",
       "sense      0.575267  0.814500   0.798431  1.000000  0.742270\n",
       "alice      0.534295  0.800858   0.722317  0.742270  1.000000"
      ]
     },
     "execution_count": 42,
     "metadata": {},
     "output_type": "execute_result"
    }
   ],
   "source": [
    "similarities"
   ]
  },
  {
   "cell_type": "code",
   "execution_count": 43,
   "metadata": {},
   "outputs": [
    {
     "data": {
      "text/plain": [
       "<matplotlib.axes._subplots.AxesSubplot at 0x7fc17c0adb38>"
      ]
     },
     "execution_count": 43,
     "metadata": {},
     "output_type": "execute_result"
    },
    {
     "data": {
      "image/png": "[encoded data removed]",
      "text/plain": [
       "<Figure size 432x288 with 2 Axes>"
      ]
     },
     "metadata": {
      "needs_background": "light"
     },
     "output_type": "display_data"
    }
   ],
   "source": [
    "import seaborn as sns\n",
    "sns.heatmap(similarities)"
   ]
  },
  {
   "cell_type": "code",
   "execution_count": null,
   "metadata": {},
   "outputs": [],
   "source": []
  }
 ],
 "metadata": {
  "kernelspec": {
   "display_name": "Python 3",
   "language": "python",
   "name": "python3"
  },
  "language_info": {
   "codemirror_mode": {
    "name": "ipython",
    "version": 3
   },
   "file_extension": ".py",
   "mimetype": "text/x-python",
   "name": "python",
   "nbconvert_exporter": "python",
   "pygments_lexer": "ipython3",
   "version": "3.6.7"
  }
 },
 "nbformat": 4,
 "nbformat_minor": 2
}
