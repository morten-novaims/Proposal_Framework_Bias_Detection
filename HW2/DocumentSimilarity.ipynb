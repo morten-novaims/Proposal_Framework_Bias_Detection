{
 "cells": [
  {
   "cell_type": "markdown",
   "metadata": {},
   "source": [
    "## Document Similarity"
   ]
  },
  {
   "cell_type": "code",
   "execution_count": 1,
   "metadata": {},
   "outputs": [
    {
     "name": "stdout",
     "output_type": "stream",
     "text": [
      "Requirement already satisfied: nltk in /opt/conda/lib/python3.6/site-packages\n",
      "Requirement already satisfied: six in /opt/conda/lib/python3.6/site-packages (from nltk)\n",
      "Requirement already satisfied: singledispatch in /opt/conda/lib/python3.6/site-packages (from nltk)\n",
      "\u001b[33mYou are using pip version 9.0.3, however version 19.0.3 is available.\n",
      "You should consider upgrading via the 'pip install --upgrade pip' command.\u001b[0m\n"
     ]
    }
   ],
   "source": [
    "!pip install nltk"
   ]
  },
  {
   "cell_type": "code",
   "execution_count": 2,
   "metadata": {},
   "outputs": [
    {
     "name": "stderr",
     "output_type": "stream",
     "text": [
      "[nltk_data] Downloading package punkt to /home/jovyan/nltk_data...\n",
      "[nltk_data]   Package punkt is already up-to-date!\n",
      "[nltk_data] Downloading package wordnet to /home/jovyan/nltk_data...\n",
      "[nltk_data]   Unzipping corpora/wordnet.zip.\n",
      "[nltk_data] Downloading package stopwords to /home/jovyan/nltk_data...\n",
      "[nltk_data]   Package stopwords is already up-to-date!\n"
     ]
    }
   ],
   "source": [
    "import text_transformer"
   ]
  },
  {
   "cell_type": "markdown",
   "metadata": {},
   "source": [
    "### Exercise 1:\n",
    "Plot an histogram of the word vocabulary of “Alice in Wonderland”.\n",
    "(number of words vs. frequency). (bins of size 1)."
   ]
  },
  {
   "cell_type": "code",
   "execution_count": 3,
   "metadata": {
    "scrolled": true
   },
   "outputs": [
    {
     "name": "stderr",
     "output_type": "stream",
     "text": [
      "[nltk_data] Downloading package gutenberg to /home/jovyan/nltk_data...\n",
      "[nltk_data]   Package gutenberg is already up-to-date!\n",
      "[nltk_data] Downloading package punkt to /home/jovyan/nltk_data...\n",
      "[nltk_data]   Package punkt is already up-to-date!\n"
     ]
    }
   ],
   "source": [
    "import nltk\n",
    "nltk.download(\"gutenberg\")\n",
    "nltk.download(\"punkt\")\n",
    "alice = \"carroll-alice.txt\"\n",
    "sents = nltk.corpus.gutenberg.sents(alice)"
   ]
  },
  {
   "cell_type": "markdown",
   "metadata": {},
   "source": [
    "#### Colect occurrences"
   ]
  },
  {
   "cell_type": "code",
   "execution_count": 30,
   "metadata": {},
   "outputs": [
    {
     "name": "stdout",
     "output_type": "stream",
     "text": [
      "Tokens 34113\n",
      "Distinct tokens 3015\n"
     ]
    }
   ],
   "source": [
    "flatten = text_transformer.flatten(sents)\n",
    "size = len(flatten)\n",
    "ocorrences = text_transformer.count_frequencies(flatten)\n",
    "\n",
    "print(\"Tokens\",size)\n",
    "print(\"Distinct tokens\",len(ocorrences))"
   ]
  },
  {
   "cell_type": "markdown",
   "metadata": {},
   "source": [
    "__Sort by occurrences__"
   ]
  },
  {
   "cell_type": "code",
   "execution_count": 32,
   "metadata": {},
   "outputs": [
    {
     "name": "stdout",
     "output_type": "stream",
     "text": [
      "5 most frequent tokens [(',', 1993), (\"'\", 1732), ('the', 1527), ('and', 802), ('.', 764)]\n"
     ]
    }
   ],
   "source": [
    "ocorrences.sort(reverse=True, key=lambda token_count: token_count[1])\n",
    "\n",
    "print(\"5 most frequent tokens\",ocorrences[0:5])"
   ]
  },
  {
   "cell_type": "markdown",
   "metadata": {},
   "source": [
    "#### Make the the plot"
   ]
  },
  {
   "cell_type": "code",
   "execution_count": 33,
   "metadata": {},
   "outputs": [
    {
     "data": {
      "text/plain": [
       "<matplotlib.axes._subplots.AxesSubplot at 0x7f67aa7d14a8>"
      ]
     },
     "execution_count": 33,
     "metadata": {},
     "output_type": "execute_result"
    },
    {
     "data": {
      "image/png": "[encoded data removed]",
      "text/plain": [
       "<Figure size 432x288 with 1 Axes>"
      ]
     },
     "metadata": {},
     "output_type": "display_data"
    }
   ],
   "source": [
    "import seaborn as sns\n",
    "\n",
    "frequencies = [ token_count[1]/size for token_count in ocorrences]\n",
    "sns.scatterplot(x=range(0,len(ocorrences)), y=frequencies, marker='+')"
   ]
  },
  {
   "cell_type": "markdown",
   "metadata": {},
   "source": [
    "### Exercise 2: \n",
    "Then process the text: normalize, lemmatize, stop word removal, etc..\n",
    "and plot the histogram again. (use nltk implementation). What happened? Describe\n",
    "what changed in the frequency distribution of words."
   ]
  },
  {
   "cell_type": "markdown",
   "metadata": {},
   "source": [
    "#### Apply processing to tokens and collect occurrences"
   ]
  },
  {
   "cell_type": "code",
   "execution_count": 34,
   "metadata": {},
   "outputs": [
    {
     "name": "stdout",
     "output_type": "stream",
     "text": [
      "Tokens 13946\n",
      "Distinct tokens 2339\n"
     ]
    }
   ],
   "source": [
    "processed_tokens = text_transformer.normalizer(flatten)\n",
    "processed_tokens = text_transformer.lemmatizer(processed_tokens) \n",
    "processed_ocorrences = text_transformer.count_frequencies(processed_tokens)\n",
    "\n",
    "\n",
    "print(\"Tokens\",len(processed_tokens))\n",
    "print(\"Distinct tokens\",len(processed_ocorrences))"
   ]
  },
  {
   "cell_type": "markdown",
   "metadata": {},
   "source": [
    "__Sort occurrences__"
   ]
  },
  {
   "cell_type": "code",
   "execution_count": 37,
   "metadata": {},
   "outputs": [
    {
     "name": "stdout",
     "output_type": "stream",
     "text": [
      "5 most frequent tokens [('i', 543), ('said', 462), ('alice', 398), ('little', 128), ('the', 115)]\n"
     ]
    }
   ],
   "source": [
    "processed_ocorrences.sort(reverse=True, key=lambda token_count: token_count[1])\n",
    "print(\"5 most frequent tokens\",processed_ocorrences[0:5])"
   ]
  },
  {
   "cell_type": "markdown",
   "metadata": {},
   "source": [
    "#### Make the plot"
   ]
  },
  {
   "cell_type": "code",
   "execution_count": 14,
   "metadata": {
    "scrolled": true
   },
   "outputs": [
    {
     "data": {
      "text/plain": [
       "<matplotlib.axes._subplots.AxesSubplot at 0x7f679ed65630>"
      ]
     },
     "execution_count": 14,
     "metadata": {},
     "output_type": "execute_result"
    },
    {
     "data": {
      "image/png": "[encoded data removed]",
      "text/plain": [
       "<Figure size 432x288 with 1 Axes>"
      ]
     },
     "metadata": {},
     "output_type": "display_data"
    }
   ],
   "source": [
    "import seaborn as sns\n",
    "\n",
    "processed_frequencies = [word[1]/size for word in processed_ocorrences]\n",
    "sns.scatterplot(x=range(0,len(processed_ocorrences)), y=processed_frequencies, marker='x')"
   ]
  },
  {
   "cell_type": "markdown",
   "metadata": {},
   "source": [
    "### Exercise 3:\n",
    "Build the term-document matrix for the collection in “books”.Find the most similar document content to the “Alice in Wonderland” using tf-idf and cosine similarity."
   ]
  },
  {
   "cell_type": "code",
   "execution_count": null,
   "metadata": {},
   "outputs": [],
   "source": [
    "books = ['shakespeare-macbeth.txt',\n",
    "         'chesterton-ball.txt',\n",
    "         'melville-moby_dick.txt',\n",
    "         'austen-sense.txt',\n",
    "         'carroll-alice.txt']\n",
    "\n",
    "# inspired by https://medium.freecodecamp.org/how-to-process-textual-data-using-tf-idf-in-python-cd2bbc0a94a3"
   ]
  },
  {
   "cell_type": "code",
   "execution_count": null,
   "metadata": {},
   "outputs": [],
   "source": [
    "macbeth = nltk.corpus.gutenberg.sents(books[0])\n",
    "ball = nltk.corpus.gutenberg.sents(books[1])\n",
    "moby_dick = nltk.corpus.gutenberg.sents(books[2])\n",
    "sense = nltk.corpus.gutenberg.sents(books[3])\n",
    "alice = nltk.corpus.gutenberg.sents(books[4])"
   ]
  },
  {
   "cell_type": "code",
   "execution_count": null,
   "metadata": {},
   "outputs": [],
   "source": [
    "def computeTF (word_dict, bow):\n",
    "    tfDict = {}\n",
    "    bowCount = len(bow)\n",
    "    for word, count in word_dict.items():\n",
    "        tfDict[word] = count/float(bowCount)\n",
    "    \n",
    "    return tfDict"
   ]
  },
  {
   "cell_type": "code",
   "execution_count": null,
   "metadata": {},
   "outputs": [],
   "source": [
    "def bow (text):\n",
    "    word_dictionary = {}\n",
    "    for word in text:\n",
    "        if not word in word_dictionary:\n",
    "            word_dictionary[word] = 1\n",
    "        else:\n",
    "            word_dictionary[word] +=1\n",
    "    \n",
    "    return word_dictionary"
   ]
  },
  {
   "cell_type": "code",
   "execution_count": null,
   "metadata": {},
   "outputs": [],
   "source": [
    "def flatten (text):\n",
    "    return [word for sentence in text for word in sentence]"
   ]
  },
  {
   "cell_type": "code",
   "execution_count": null,
   "metadata": {},
   "outputs": [],
   "source": [
    "def computeIDF (doclist):\n",
    "    import math\n",
    "    idfDict = {}\n",
    "    N = len(doclist)\n",
    "    idfDict = dict.fromkeys(doclist[0].keys(), 0)\n",
    "    print(\"preliminary IDF dict:\", idfDict)\n",
    "    for doc in doclist:\n",
    "        for word, val in doc.items():\n",
    "            if val > 0:\n",
    "                idfDict[word] += 1\n",
    "                print(\"Word in Dict: {} :\".format(word), idfDict[word])\n",
    "    \n",
    "    for word, val in idfDict.items():\n",
    "        idfDict[word] = math.log10(N/float(val)) \n",
    "    \n",
    "    return idfDict"
   ]
  },
  {
   "cell_type": "code",
   "execution_count": null,
   "metadata": {},
   "outputs": [],
   "source": [
    "ceasar = [\"This\", \"is\", \"a\", \"book\", \"about\", \"ceasar\", \".\"]\n",
    "brutus = [\"Brutus\", \"this\", \"book\", \"is\", \"about\", \".\"]\n",
    "corpus = [bow(ceasar), bow(brutus)]"
   ]
  },
  {
   "cell_type": "code",
   "execution_count": null,
   "metadata": {},
   "outputs": [],
   "source": [
    "corpus[0]"
   ]
  },
  {
   "cell_type": "code",
   "execution_count": null,
   "metadata": {},
   "outputs": [],
   "source": [
    "computeIDF(corpus)"
   ]
  },
  {
   "cell_type": "code",
   "execution_count": null,
   "metadata": {},
   "outputs": [],
   "source": [
    "alice_bow"
   ]
  },
  {
   "cell_type": "code",
   "execution_count": null,
   "metadata": {},
   "outputs": [],
   "source": [
    "alice = flatten(sents)"
   ]
  },
  {
   "cell_type": "code",
   "execution_count": null,
   "metadata": {},
   "outputs": [],
   "source": [
    "import text_transformer as tt\n",
    "alice = tt.normalizer(alice)"
   ]
  },
  {
   "cell_type": "code",
   "execution_count": null,
   "metadata": {},
   "outputs": [],
   "source": [
    "alice_bow = bow(alice)"
   ]
  },
  {
   "cell_type": "code",
   "execution_count": null,
   "metadata": {},
   "outputs": [],
   "source": [
    "alice_TF = computeTF(alice_bow, alice)"
   ]
  },
  {
   "cell_type": "code",
   "execution_count": null,
   "metadata": {},
   "outputs": [],
   "source": [
    "alice_TF"
   ]
  },
  {
   "cell_type": "code",
   "execution_count": null,
   "metadata": {},
   "outputs": [],
   "source": [
    "trial_text = \"Hello\""
   ]
  },
  {
   "cell_type": "code",
   "execution_count": null,
   "metadata": {},
   "outputs": [],
   "source": [
    "punct = \"\\{}\".format(\"|\\\\\".join(string.punctuation))"
   ]
  },
  {
   "cell_type": "code",
   "execution_count": null,
   "metadata": {},
   "outputs": [],
   "source": [
    "punct"
   ]
  },
  {
   "cell_type": "code",
   "execution_count": null,
   "metadata": {},
   "outputs": [],
   "source": [
    "import re \n",
    "if not re.search( r'{} +'.format(punct), trial_text):\n",
    "    print(\"Match\")\n",
    "elif re.search( r'{} +'.format(punct), trial_text) == False:\n",
    "    print(\"No Match\")\n",
    "else:\n",
    "    print(\"You're an idiot\")"
   ]
  },
  {
   "cell_type": "code",
   "execution_count": null,
   "metadata": {},
   "outputs": [],
   "source": [
    "r'{}+'.format(punct)"
   ]
  },
  {
   "cell_type": "code",
   "execution_count": null,
   "metadata": {},
   "outputs": [],
   "source": []
  }
 ],
 "metadata": {
  "kernelspec": {
   "display_name": "Python 3",
   "language": "python",
   "name": "python3"
  },
  "language_info": {
   "codemirror_mode": {
    "name": "ipython",
    "version": 3
   },
   "file_extension": ".py",
   "mimetype": "text/x-python",
   "name": "python",
   "nbconvert_exporter": "python",
   "pygments_lexer": "ipython3",
   "version": "3.6.3"
  }
 },
 "nbformat": 4,
 "nbformat_minor": 2
}
