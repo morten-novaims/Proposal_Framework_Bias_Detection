{
 "cells": [
  {
   "cell_type": "code",
   "execution_count": 3,
   "metadata": {},
   "outputs": [
    {
     "name": "stdout",
     "output_type": "stream",
     "text": [
      "Requirement already satisfied: nltk in /opt/conda/lib/python3.6/site-packages (3.4)\n",
      "Requirement already satisfied: singledispatch in /opt/conda/lib/python3.6/site-packages (from nltk) (3.4.0.3)\n",
      "Requirement already satisfied: six in /opt/conda/lib/python3.6/site-packages (from nltk) (1.12.0)\n"
     ]
    }
   ],
   "source": [
    "!pip install nltk\n",
    "import nltk"
   ]
  },
  {
   "cell_type": "code",
   "execution_count": 62,
   "metadata": {},
   "outputs": [
    {
     "name": "stderr",
     "output_type": "stream",
     "text": [
      "[nltk_data] Downloading package gutenberg to /home/jovyan/nltk_data...\n",
      "[nltk_data]   Package gutenberg is already up-to-date!\n",
      "[nltk_data] Downloading package punkt to /home/jovyan/nltk_data...\n",
      "[nltk_data]   Package punkt is already up-to-date!\n",
      "[nltk_data] Downloading package stopwords to /home/jovyan/nltk_data...\n",
      "[nltk_data]   Unzipping corpora/stopwords.zip.\n"
     ]
    },
    {
     "data": {
      "text/plain": [
       "True"
      ]
     },
     "execution_count": 62,
     "metadata": {},
     "output_type": "execute_result"
    }
   ],
   "source": [
    "# download gutenberg and punkt\n",
    "nltk.download(\"gutenberg\")\n",
    "nltk.download(\"punkt\")\n",
    "nltk.download('stopwords')"
   ]
  },
  {
   "cell_type": "code",
   "execution_count": 5,
   "metadata": {},
   "outputs": [],
   "source": [
    "# import the book \"Alice in Wonderland\" into a variable tokenized\n",
    "alice = \"carroll-alice.txt\"\n",
    "sentences = nltk.corpus.gutenberg.sents(alice)"
   ]
  },
  {
   "cell_type": "code",
   "execution_count": 6,
   "metadata": {},
   "outputs": [
    {
     "name": "stdout",
     "output_type": "stream",
     "text": [
      "['As', 'she', 'said', 'this', 'she', 'looked', 'down', 'at', 'her', 'hands', ',', 'and', 'was', 'surprised', 'to', 'see', 'that', 'she', 'had', 'put', 'on', 'one', 'of', 'the', 'Rabbit', \"'\", 's', 'little', 'white', 'kid', 'gloves', 'while', 'she', 'was', 'talking', '.']\n"
     ]
    }
   ],
   "source": [
    "print(sentences[150])"
   ]
  },
  {
   "cell_type": "code",
   "execution_count": 7,
   "metadata": {},
   "outputs": [],
   "source": [
    "# as the string is already tokenized, let's normalize\n",
    "word_dictionary = {}\n",
    "for sentence in sentences:\n",
    "    for word in sentence:\n",
    "        if not word in word_dictionary:\n",
    "            word_dictionary[word] = 1\n",
    "        else:\n",
    "            word_dictionary[word] +=1"
   ]
  },
  {
   "cell_type": "code",
   "execution_count": 14,
   "metadata": {},
   "outputs": [
    {
     "name": "stdout",
     "output_type": "stream",
     "text": [
      "{'[': 3, 'Alice': 396, \"'\": 1732, 's': 195, 'Adventures': 3, 'in': 357, 'Wonderland': 3, 'by': 55, 'Lewis': 1, 'Carroll': 1, '1865': 1, ']': 1, 'CHAPTER': 12, 'I': 543, '.': 764, 'Down': 3, 'the': 1527, 'Rabbit': 45, '-': 141, 'Hole': 1, 'was': 352, 'beginning': 14, 'to': 725, 'get': 44, 'very': 126, 'tired': 7, 'of': 500, 'sitting': 10, 'her': 243, 'sister': 9, 'on': 189, 'bank': 3, ',': 1993, 'and': 802, 'having': 10, 'nothing': 30, 'do': 68, ':': 216, 'once': 31, 'or': 76, 'twice': 5, 'she': 509, 'had': 177, 'peeped': 3, 'into': 67, 'book': 11, 'reading': 3, 'but': 133, 'it': 527, 'no': 69, 'pictures': 4, 'conversations': 1, 'what': 93, 'is': 97, 'use': 18, 'a': 615, \",'\": 397, 'thought': 74, 'without': 26, 'conversation': 10, \"?'\": 154, 'So': 27, 'considering': 3, 'own': 10, 'mind': 9, '(': 50, 'as': 246, 'well': 40, 'could': 73, 'for': 140, 'hot': 7, 'day': 29, 'made': 30, 'feel': 8, 'sleepy': 5, 'stupid': 5, '),': 8, 'whether': 11, 'pleasure': 2, 'making': 8, 'daisy': 1, 'chain': 1, 'would': 70, 'be': 145, 'worth': 4, 'trouble': 6, 'getting': 22, 'up': 98, 'picking': 2, 'daisies': 1, 'when': 69, 'suddenly': 12, 'White': 22, 'with': 175, 'pink': 1, 'eyes': 29, 'ran': 16, 'close': 13, 'There': 33, 'so': 124, 'VERY': 13, 'remarkable': 2, 'that': 275, ';': 186, 'nor': 2, 'did': 60, 'think': 50, 'much': 51, 'out': 116, 'way': 56, 'hear': 14, 'say': 51, 'itself': 14, 'Oh': 35, 'dear': 28, '!': 155, 'shall': 23, 'late': 6, \"!'\": 278, 'over': 40, 'afterwards': 2, 'occurred': 2, 'ought': 14, 'have': 73, 'wondered': 1, 'at': 202, 'this': 113, 'time': 68, 'all': 173, 'seemed': 27, 'quite': 53, 'natural': 4, ');': 2, 'actually': 1, 'TOOK': 1, 'A': 17, 'WATCH': 1, 'OUT': 1, 'OF': 3, 'ITS': 1, 'WAISTCOAT': 1, 'POCKET': 1, 'looked': 45, 'then': 72, 'hurried': 11, 'started': 2, 'feet': 19, 'flashed': 1, 'across': 5, 'never': 42, 'before': 36, 'seen': 15, 'rabbit': 5, 'either': 9, 'waistcoat': 1, 'pocket': 6, 'watch': 7, 'take': 18, 'burning': 1, 'curiosity': 5, 'field': 1, 'after': 37, 'fortunately': 1, 'just': 45, 'see': 66, 'pop': 1, 'down': 99, 'large': 33, 'hole': 4, 'under': 16, 'hedge': 2, 'In': 11, 'another': 22, 'moment': 31, 'went': 83, 'how': 40, 'world': 7, 'again': 83, 'The': 108, 'straight': 2, 'like': 84, 'tunnel': 1, 'some': 48, 'dipped': 2, 'not': 129, 'about': 94, 'stopping': 1, 'herself': 83, 'found': 30, 'falling': 2, 'deep': 7, 'Either': 1, 'fell': 6, 'slowly': 8, 'plenty': 1, 'look': 28, 'wonder': 18, 'going': 27, 'happen': 8, 'next': 28, 'First': 7, 'tried': 19, 'make': 27, 'coming': 8, 'too': 25, 'dark': 3, 'anything': 19, 'sides': 4, 'noticed': 8, 'they': 129, 'were': 85, 'filled': 3, 'cupboards': 2, 'shelves': 2, 'here': 39, 'there': 65, 'saw': 14, 'maps': 1, 'hung': 1, 'upon': 26, 'pegs': 1, 'She': 39, 'took': 23, 'jar': 2, 'from': 34, 'one': 94, 'passed': 5, 'labelled': 1, 'ORANGE': 1, 'MARMALADE': 1, \"',\": 3, 'great': 39, 'disappointment': 1, 'empty': 1, 'drop': 1, 'fear': 4, 'killing': 1, 'somebody': 5, 'managed': 4, 'put': 31, 'past': 3, 'Well': 23, 'such': 40, 'fall': 7, 'tumbling': 2, 'stairs': 3, 'How': 27, 'brave': 1, 'll': 56, 'me': 61, 'home': 5, 'Why': 27, 'wouldn': 12, 't': 216, 'even': 17, 'if': 78, 'off': 62, 'top': 8, 'house': 18, 'Which': 8, 'likely': 5, 'true': 3, '.)': 16, 'Would': 8, 'NEVER': 2, 'come': 25, 'an': 52, 'end': 17, 'many': 12, 'miles': 3, 've': 43, 'fallen': 4, 'said': 456, 'aloud': 5, 'must': 41, 'somewhere': 2, 'near': 14, 'centre': 1, 'earth': 4, 'Let': 11, 'four': 8, 'thousand': 2, \"--'\": 51, 'you': 345, 'learnt': 2, 'several': 4, 'things': 31, 'sort': 20, 'lessons': 10, 'schoolroom': 1, 'though': 10, 'good': 26, 'opportunity': 8, 'showing': 2, 'knowledge': 3, 'listen': 7, 'still': 12, 'practice': 1, ')': 8, \"'--\": 17, 'yes': 1, 'right': 30, 'distance': 8, '--': 142, 'Latitude': 2, 'Longitude': 2, 'got': 45, 'idea': 15, 'nice': 6, 'grand': 3, 'words': 21, 'Presently': 2, 'began': 58, 'THROUGH': 1, 'funny': 3, 'seem': 8, 'among': 12, 'people': 13, 'walk': 5, 'their': 50, 'heads': 9, 'downward': 1, 'Antipathies': 1, 'rather': 25, 'glad': 11, 'WAS': 4, 'listening': 3, 'didn': 14, 'sound': 4, 'word': 10, 'ask': 11, 'them': 88, 'name': 10, 'country': 1, 'know': 87, 'Please': 5, 'Ma': 2, 'am': 16, 'New': 1, 'Zealand': 1, 'Australia': 1, 'curtsey': 1, 'spoke': 17, 'fancy': 7, 'CURTSEYING': 1, 're': 38, 'through': 13, 'air': 15, 'Do': 13, 'manage': 7, '?)': 1, 'And': 67, 'ignorant': 1, 'little': 125, 'girl': 4, 'asking': 5, 'No': 20, 'perhaps': 14, 'written': 6, \".'\": 187, 'else': 12, 'soon': 24, 'talking': 16, 'Dinah': 14, 'miss': 1, 'night': 5, 'should': 27, 'cat': 11, 'hope': 3, 'remember': 14, 'saucer': 1, 'milk': 2, 'tea': 18, 'my': 55, 'wish': 21, 'are': 44, 'mice': 4, 'm': 58, 'afraid': 12, 'might': 28, 'catch': 3, 'bat': 3, 'mouse': 14, 'But': 37, 'cats': 13, 'eat': 17, 'bats': 4, 'saying': 15, 'dreamy': 1, '?': 36, 'sometimes': 5, 'couldn': 9, 'answer': 9, 'question': 17, 'matter': 9, 'which': 41, 'felt': 23, 'dozing': 1, 'begun': 7, 'dream': 7, 'walking': 5, 'hand': 20, 'earnestly': 2, 'Now': 12, 'tell': 27, 'truth': 1, 'ever': 20, 'thump': 2, 'came': 40, 'heap': 1, 'sticks': 1, 'dry': 8, 'leaves': 6, 'bit': 16, 'hurt': 3, 'jumped': 6, 'overhead': 1, 'long': 31, 'passage': 4, 'sight': 10, 'hurrying': 1, 'lost': 3, 'away': 25, 'wind': 2, 'turned': 16, 'corner': 4, 'ears': 5, 'whiskers': 3, 'behind': 13, 'longer': 3, 'low': 15, 'hall': 9, 'lit': 1, 'row': 2, 'lamps': 1, 'hanging': 3, 'roof': 6, 'doors': 2, 'round': 41, 'locked': 1, 'been': 38, 'side': 17, 'other': 40, 'trying': 14, 'every': 12, 'door': 30, 'walked': 10, 'sadly': 5, 'middle': 7, 'wondering': 7, 'Suddenly': 1, 'three': 28, 'legged': 2, 'table': 17, 'solid': 1, 'glass': 10, 'except': 4, 'tiny': 4, 'golden': 7, 'key': 9, 'first': 44, 'belong': 1, 'alas': 3, 'locks': 2, 'small': 10, 'any': 39, 'rate': 9, 'open': 7, 'However': 13, 'second': 4, 'curtain': 1, 'fifteen': 1, 'inches': 6, 'high': 15, 'lock': 1, 'delight': 3, 'fitted': 1, 'opened': 10, 'led': 4, 'larger': 7, 'than': 23, 'rat': 1, 'knelt': 1, 'along': 6, 'loveliest': 1, 'garden': 16, 'longed': 2, 'wander': 1, 'those': 9, 'beds': 2, 'bright': 8, 'flowers': 2, 'cool': 2, 'fountains': 2, 'head': 50, 'doorway': 1, 'go': 47, 'poor': 25, 'shoulders': 4, 'shut': 5, 'telescope': 3, 'only': 47, 'begin': 12, 'For': 13, 'happened': 7, 'lately': 1, 'few': 9, 'indeed': 15, 'really': 11, 'impossible': 3, 'waiting': 8, 'back': 38, 'half': 22, 'hoping': 3, 'find': 21, 'rules': 3, 'shutting': 2, 'telescopes': 1, 'bottle': 10, \"('\": 5, 'certainly': 13, ',)': 9, 'neck': 7, 'paper': 4, 'label': 2, 'DRINK': 2, 'ME': 7, 'beautifully': 2, 'printed': 1, 'letters': 1, 'It': 64, 'Drink': 1, 'wise': 2, 'THAT': 13, 'hurry': 11, 'marked': 6, '\"': 49, 'poison': 3, \"';\": 5, 'read': 10, 'histories': 1, 'children': 10, 'who': 48, 'burnt': 1, 'eaten': 1, 'wild': 2, 'beasts': 2, 'unpleasant': 2, 'because': 14, 'WOULD': 5, 'simple': 5, 'friends': 2, 'taught': 4, 'red': 2, 'poker': 1, 'will': 24, 'burn': 2, 'hold': 6, 'cut': 5, 'your': 53, 'finger': 5, 'deeply': 4, 'knife': 3, 'usually': 2, 'bleeds': 1, 'forgotten': 6, 'drink': 4, 'almost': 6, 'certain': 3, 'disagree': 1, 'sooner': 2, 'later': 3, 'NOT': 7, 'ventured': 4, 'taste': 2, 'finding': 3, 'fact': 8, 'mixed': 2, 'flavour': 1, 'cherry': 1, 'tart': 1, 'custard': 1, 'pine': 1, 'apple': 1, 'roast': 1, 'turkey': 1, 'toffee': 1, 'buttered': 1, 'toast': 1, 'finished': 12, '*': 60, 'What': 42, 'curious': 19, 'feeling': 7, 'now': 48, 'ten': 5, 'face': 15, 'brightened': 2, 'size': 13, 'lovely': 2, 'however': 7, 'waited': 11, 'minutes': 11, 'shrink': 1, 'further': 3, 'nervous': 5, 'altogether': 5, 'candle': 3, 'flame': 1, 'blown': 1, 'thing': 49, 'After': 6, 'while': 20, 'more': 47, 'decided': 3, 'possibly': 3, 'reach': 4, 'plainly': 1, 'best': 10, 'climb': 1, 'legs': 3, 'slippery': 1, 'sat': 17, 'cried': 20, 'Come': 21, 'crying': 2, 'sharply': 4, 'advise': 1, 'leave': 7, 'minute': 21, 'generally': 7, 'gave': 13, 'advice': 1, 'seldom': 1, 'followed': 8, 'scolded': 1, 'severely': 4, 'bring': 2, 'tears': 10, 'remembered': 5, 'box': 10, 'cheated': 1, 'game': 12, 'croquet': 8, 'playing': 2, 'against': 9, 'child': 11, 'fond': 4, 'pretending': 1, 'two': 32, 'pretend': 1, 'hardly': 11, 'enough': 18, 'left': 14, 'ONE': 4, 'respectable': 1, 'person': 4, 'Soon': 1, 'eye': 7, 'lying': 8, 'cake': 3, 'EAT': 1, 'currants': 1, 'makes': 11, 'grow': 13, 'can': 57, 'smaller': 3, 'creep': 1, 'don': 51, 'care': 4, 'happens': 5, 'ate': 1, 'anxiously': 14, 'holding': 3, 'growing': 11, 'surprised': 7, 'remained': 3, 'same': 23, 'sure': 20, 'eats': 1, 'expecting': 3, 'dull': 3, 'life': 12, 'common': 1, 'set': 14, 'work': 8, 'II': 1, 'Pool': 1, 'Tears': 1, 'Curiouser': 1, 'curiouser': 1, 'forgot': 2, 'speak': 13, 'English': 6, 'opening': 3, 'largest': 1, 'Good': 1, 'bye': 2, 'far': 13, ').': 4, 'shoes': 6, 'stockings': 1, 'dears': 3, '_I_': 2, 'shan': 5, 'able': 1, 'deal': 12, 'myself': 6, ';--': 1, 'kind': 7, 'won': 26, 'want': 9, 'give': 9, 'new': 4, 'pair': 5, 'boots': 2, 'Christmas': 1, 'planning': 1, 'They': 21, 'carrier': 1, 'sending': 2, 'presents': 2, 'odd': 1, 'directions': 3, 'ALICE': 2, 'S': 6, 'RIGHT': 1, 'FOOT': 1, 'ESQ': 1, 'HEARTHRUG': 1, 'NEAR': 1, 'THE': 7, 'FENDER': 1, 'WITH': 1, 'LOVE': 1, 'nonsense': 6, 'Just': 7, 'struck': 2, 'nine': 5, 'Poor': 2, 'hopeless': 1, 'cry': 3, 'You': 51, 'ashamed': 2, 'yourself': 10, 'Stop': 1, 'shedding': 1, 'gallons': 1, 'until': 5, 'pool': 10, 'reaching': 1, 'heard': 30, 'pattering': 3, 'hastily': 16, 'dried': 1, 'returning': 1, 'splendidly': 1, 'dressed': 1, 'white': 8, 'kid': 5, 'gloves': 11, 'fan': 10, 'he': 101, 'trotting': 2, 'muttering': 3, 'himself': 6, 'Duchess': 42, 'savage': 4, 'kept': 13, 'desperate': 1, 'ready': 8, 'help': 9, 'timid': 3, 'voice': 47, 'If': 16, 'please': 13, 'sir': 6, 'violently': 4, 'dropped': 5, 'skurried': 1, 'darkness': 1, 'hard': 8, 'fanning': 1, 'Dear': 1, 'queer': 12, 'everything': 12, 'yesterday': 3, 'usual': 5, 'changed': 8, 'morning': 5, 'different': 9, 'Who': 15, 'Ah': 5, 'puzzle': 1, 'thinking': 10, 'knew': 14, 'age': 4, 'Ada': 1, 'hair': 7, 'goes': 7, 'ringlets': 2, 'mine': 7, 'doesn': 16, 'Mabel': 4, 'sorts': 3, 'oh': 10, 'knows': 2, 'Besides': 1, 'SHE': 5, 'puzzling': 4, 'try': 12, 'used': 13, 'times': 6, 'five': 1, 'twelve': 4, 'six': 2, 'thirteen': 1, 'seven': 1, 'twenty': 2, 'Multiplication': 1, 'Table': 1, 'signify': 1, 'let': 11, 'Geography': 1, 'London': 1, 'capital': 4, 'Paris': 2, 'Rome': 2, 'wrong': 5, 'doth': 2, '--\"\\'': 4, 'crossed': 3, 'hands': 12, 'lap': 2, 'repeat': 6, 'sounded': 5, 'hoarse': 3, 'strange': 5, ':--': 15, 'crocodile': 1, 'Improve': 1, 'his': 94, 'shining': 1, 'tail': 9, 'pour': 1, 'waters': 1, 'Nile': 1, 'On': 4, 'scale': 1, 'cheerfully': 1, 'seems': 5, 'grin': 6, 'neatly': 2, 'spread': 3, 'claws': 2, 'welcome': 1, 'fishes': 1, 'With': 4, 'gently': 3, 'smiling': 2, 'jaws': 2, 'live': 8, 'poky': 1, 'toys': 1, 'play': 8, 'learn': 7, 'stay': 5, 'putting': 3, '!\"': 6, 'Tell': 5, 'being': 19, 'till': 21, '\"--': 3, 'sudden': 5, 'burst': 1, 'alone': 4, 'As': 17, 'CAN': 4, 'done': 15, 'measure': 1, 'nearly': 10, 'guess': 3, 'shrinking': 4, 'rapidly': 2, 'cause': 3, 'avoid': 1, 'That': 27, 'narrow': 2, 'escape': 4, 'frightened': 7, 'change': 13, 'existence': 1, 'speed': 1, 'worse': 3, 'declare': 2, 'bad': 2, 'these': 11, 'foot': 9, 'slipped': 3, 'splash': 1, 'chin': 7, 'salt': 2, 'water': 5, 'Her': 3, 'somehow': 1, 'sea': 14, 'case': 5, 'railway': 2, 'seaside': 1, 'general': 3, 'conclusion': 2, 'wherever': 2, 'coast': 1, 'number': 4, 'bathing': 1, 'machines': 1, 'digging': 2, 'sand': 1, 'wooden': 1, 'spades': 1, 'lodging': 1, 'houses': 1, 'station': 1, 'wept': 1, 'hadn': 7, 'swam': 5, 'punished': 1, 'suppose': 12, 'drowned': 1, 'WILL': 3, 'something': 17, 'splashing': 2, 'nearer': 5, 'walrus': 1, 'hippopotamus': 1, 'Everything': 2, 'talk': 14, 'harm': 1, 'O': 3, 'Mouse': 30, 'swimming': 2, 'speaking': 5, 'brother': 1, 'Latin': 1, 'Grammar': 1, \"!')\": 1, 'inquisitively': 1, 'wink': 2, 'its': 56, 'Perhaps': 3, 'understand': 6, 'daresay': 1, 'French': 4, 'William': 6, 'Conqueror': 2, 'history': 7, 'clear': 2, 'notion': 3, 'ago': 2, 'Ou': 1, 'est': 1, 'ma': 1, 'chatte': 1, 'sentence': 5, 'lesson': 3, 'leap': 1, 'quiver': 1, 'fright': 2, 'beg': 7, 'pardon': 6, 'animal': 2, 'feelings': 2, 'Not': 9, 'shrill': 5, 'passionate': 1, 'YOU': 15, 'soothing': 1, 'tone': 40, 'angry': 5, 'yet': 21, 'show': 3, 'our': 7, 'd': 27, 'quiet': 2, 'lazily': 1, 'sits': 1, 'purring': 2, 'nicely': 2, 'fire': 4, 'licking': 1, 'paws': 4, 'washing': 2, 'soft': 1, 'nurse': 3, 'catching': 2, 'bristling': 1, 'offended': 10, 'We': 10, 'trembling': 6, 'subject': 6, 'Our': 1, 'family': 1, 'always': 12, 'HATED': 1, 'nasty': 1, 'vulgar': 1, 'Don': 9, 'Are': 4, 'dogs': 3, 'eagerly': 8, 'dog': 3, 'eyed': 1, 'terrier': 1, 'curly': 1, 'brown': 2, 'fetch': 6, 'throw': 3, 'sit': 6, 'dinner': 2, 'belongs': 2, 'farmer': 1, 'says': 4, 'useful': 2, 'hundred': 1, 'pounds': 1, 'He': 20, 'kills': 1, 'rats': 1, 'sorrowful': 2, 'commotion': 1, 'called': 15, 'softly': 1, 'we': 23, 'When': 10, 'pale': 4, 'passion': 3, 'us': 14, 'shore': 4, 'why': 13, 'hate': 2, 'crowded': 5, 'birds': 9, 'animals': 4, 'Duck': 3, 'Dodo': 13, 'Lory': 7, 'Eaglet': 3, 'creatures': 10, 'whole': 13, 'party': 9, 'III': 1, 'Caucus': 3, 'Race': 1, 'Long': 1, 'Tale': 1, 'looking': 32, 'assembled': 2, 'draggled': 1, 'feathers': 1, 'fur': 3, 'clinging': 1, 'dripping': 1, 'wet': 2, 'cross': 3, 'uncomfortable': 4, 'course': 26, 'consultation': 1, 'familiarly': 1, 'known': 1, 'Indeed': 1, 'argument': 4, 'last': 32, 'sulky': 3, 'older': 2, 'better': 14, 'allow': 2, 'knowing': 2, 'old': 17, 'positively': 1, 'refused': 1, 'At': 9, 'authority': 2, 'Sit': 1, 'LL': 1, 'ring': 2, 'fixed': 1, 'cold': 1, 'Ahem': 1, 'important': 7, 'This': 17, 'driest': 1, 'Silence': 3, 'whose': 2, 'favoured': 1, 'pope': 1, 'submitted': 1, 'wanted': 4, 'leaders': 1, 'accustomed': 1, 'usurpation': 1, 'conquest': 1, 'Edwin': 2, 'Morcar': 2, 'earls': 2, 'Mercia': 2, 'Northumbria': 2, 'Ugh': 2, 'shiver': 1, 'frowning': 4, 'politely': 6, 'Did': 3, 'proceed': 2, 'declared': 1, 'him': 39, 'Stigand': 1, 'patriotic': 1, 'archbishop': 2, 'Canterbury': 1, 'advisable': 2, 'Found': 2, 'WHAT': 6, 'IT': 4, 'replied': 29, 'crossly': 1, 'means': 5, 'frog': 2, 'worm': 1, 'notice': 5, 'hurriedly': 2, '\\'\"--': 1, 'Edgar': 1, 'Atheling': 1, 'meet': 2, 'offer': 2, 'crown': 3, 'conduct': 1, 'moderate': 1, 'insolence': 1, 'Normans': 1, '--\"': 13, 'continued': 9, 'turning': 12, 'melancholy': 6, 'solemnly': 4, 'rising': 1, 'move': 3, 'meeting': 1, 'adjourn': 1, 'immediate': 1, 'adoption': 1, 'energetic': 1, 'remedies': 1, 'Speak': 2, 'meaning': 8, 'believe': 9, 'bent': 1, 'hide': 1, 'smile': 2, 'tittered': 1, 'audibly': 1, 'race': 5, 'IS': 8, 'paused': 1, 'SOMEBODY': 1, 'inclined': 1, 'explain': 8, 'winter': 1, 'circle': 1, 'exact': 1, 'shape': 1, 'placed': 1, 'One': 6, 'running': 8, 'liked': 6, 'easy': 2, 'hour': 2, 'panting': 2, 'has': 6, 'pressed': 3, 'forehead': 2, 'position': 2, 'Shakespeare': 1, 'rest': 10, 'silence': 11, 'EVERYBODY': 1, 'prizes': 3, 'chorus': 3, 'voices': 3, 'asked': 17, 'pointing': 4, 'calling': 1, 'confused': 4, 'Prizes': 2, 'despair': 1, 'pulled': 1, 'comfits': 2, 'luckily': 1, 'handed': 3, 'exactly': 5, 'piece': 6, 'prize': 1, 'Of': 11, 'gravely': 3, 'Only': 3, 'thimble': 4, 'Hand': 1, 'Then': 21, 'presented': 1, 'acceptance': 1, 'elegant': 1, 'short': 4, 'speech': 3, 'cheered': 3, 'absurd': 2, 'grave': 3, 'dare': 5, 'laugh': 1, 'simply': 3, 'bowed': 4, 'solemn': 3, 'caused': 2, 'noise': 3, 'confusion': 5, 'complained': 1, 'theirs': 1, 'ones': 1, 'choked': 3, 'patted': 1, 'begged': 1, 'promised': 1, 'C': 1, 'D': 2, 'added': 23, 'whisper': 3, 'Mine': 1, 'sad': 3, 'tale': 3, 'sighing': 3, 'call': 5, 'Fury': 2, 'met': 3, 'both': 14, 'law': 2, 'prosecute': 1, '.--': 3, 'denial': 1, 'trial': 10, '.\"': 4, 'Said': 4, 'cur': 1, 'Such': 1, 'Sir': 1, 'jury': 22, 'judge': 4, 'wasting': 2, 'breath': 4, ',\"': 4, 'cunning': 1, 'condemn': 1, 'death': 1, '.\"\\'': 7, 'attending': 3, 'humbly': 2, 'fifth': 1, 'bend': 2, 'angrily': 9, 'knot': 2, 'undo': 1, 'insult': 1, 'mean': 10, 'pleaded': 3, 'easily': 3, 'growled': 1, 'reply': 5, 'finish': 5, 'story': 7, 'others': 7, 'joined': 3, 'Yes': 12, 'shook': 9, 'impatiently': 5, 'quicker': 1, 'pity': 3, 'sighed': 5, 'Crab': 2, 'daughter': 1, 'lose': 1, 'YOUR': 7, 'temper': 5, 'Hold': 4, 'tongue': 4, 'young': 5, 'snappishly': 1, 'patience': 1, 'oyster': 1, 'addressing': 1, 'nobody': 5, 'particular': 4, 'venture': 3, 'pet': 1, 'bird': 2, 'sensation': 2, 'Some': 2, 'Magpie': 1, 'wrapping': 1, 'carefully': 3, 'remarking': 3, 'suit': 3, 'throat': 2, 'Canary': 1, 'bed': 1, 'various': 1, 'pretexts': 1, 'moved': 5, 'mentioned': 3, 'Nobody': 3, 'lonely': 2, 'spirited': 1, 'footsteps': 2, 'IV': 1, 'Sends': 1, 'Little': 1, 'Bill': 16, 'executed': 6, 'ferrets': 2, 'Where': 5, 'guessed': 3, 'naturedly': 1, 'hunting': 3, 'nowhere': 2, 'since': 4, 'swim': 3, 'vanished': 4, 'completely': 1, 'Very': 5, 'Mary': 4, 'Ann': 4, 'ARE': 6, 'doing': 5, 'Run': 1, 'Quick': 1, 'direction': 5, 'pointed': 1, 'mistake': 3, 'housemaid': 1, 'finds': 1, 'neat': 1, 'brass': 1, 'plate': 3, 'W': 1, 'RABBIT': 1, 'engraved': 1, 'knocking': 3, 'upstairs': 1, 'lest': 1, 'real': 3, 'messages': 2, 'fancying': 1, '\\'\"': 4, 'Miss': 3, 'directly': 2, 'Coming': 1, 'stop': 5, 'ordering': 2, 'By': 4, 'tidy': 1, 'room': 13, 'window': 8, 'hoped': 1, 'pairs': 1, 'stood': 7, 'nevertheless': 1, 'uncorked': 1, 'lips': 1, 'SOMETHING': 1, 'interesting': 5, 'whenever': 1, 'does': 6, 'expected': 1, 'drunk': 2, 'pressing': 1, 'ceiling': 1, 'stoop': 2, 'save': 1, 'broken': 6, 'Alas': 1, 'kneel': 1, 'floor': 3, 'effect': 3, 'elbow': 3, 'arm': 15, 'curled': 2, 'Still': 1, 'resource': 1, 'chimney': 6, 'whatever': 2, 'become': 5, 'Luckily': 1, 'magic': 1, 'full': 6, 'grew': 1, 'chance': 4, 'unhappy': 2, 'pleasanter': 1, 'wasn': 11, 'ordered': 4, 'rabbits': 1, 'gone': 13, 'fairy': 1, 'tales': 1, 'fancied': 2, 'write': 5, 'grown': 7, 'least': 9, 'HERE': 1, 'comfort': 1, 'woman': 2, 'shouldn': 5, 'foolish': 1, 'answered': 4, 'books': 2, 'taking': 5, 'outside': 3, 'stopped': 3, 'Fetch': 1, 'trembled': 2, 'forgetting': 3, 'reason': 9, 'inwards': 1, 'attempt': 1, 'proved': 2, 'failure': 1, 'snatch': 2, 'shriek': 5, 'crash': 3, 'concluded': 2, 'possible': 1, 'cucumber': 2, 'frame': 1, 'Next': 2, 'Pat': 3, 'Sure': 4, 'Digging': 2, 'apples': 2, 'yer': 4, 'honour': 4, 'Here': 11, 'THIS': 4, 'Sounds': 1, 'pronounced': 1, 'arrum': 1, \".')\": 1, 'An': 5, 'goose': 2, 'fills': 1, 'business': 7, 'whispers': 1, 'coward': 1, 'TWO': 2, 'shrieks': 1, 'sounds': 3, 'frames': 1, 'pulling': 1, 'COULD': 4, 'hearing': 4, 'rumbling': 1, 'cartwheels': 1, 'together': 9, 'ladder': 1, '?--': 4, 'lad': 1, '!--': 3, 'em': 3, 'tie': 1, 'rope': 1, 'Will': 6, 'bear': 2, 'Mind': 2, 'loose': 1, 'slate': 4, 'Heads': 1, 'below': 3, 'loud': 6, \")--'\": 2, 'Nay': 1, 'master': 4, 'Shy': 1, 'place': 8, 'fireplace': 1, 'THINK': 3, 'kick': 3, 'drew': 5, 'scratching': 1, 'scrambling': 1, 'above': 3, 'sharp': 6, 'Catch': 1, 'Brandy': 1, 'choke': 1, 'fellow': 4, 'Last': 1, 'feeble': 2, 'squeaking': 2, 'thank': 1, 'ye': 1, 'flustered': 1, 'comes': 2, 'Jack': 1, 'sky': 5, 'rocket': 1, 'dead': 4, 'instantly': 5, 'sense': 3, 'moving': 3, 'barrowful': 2, 'doubt': 4, 'shower': 2, 'pebbles': 2, 'rattling': 2, 'hit': 2, 'shouted': 9, 'produced': 1, 'surprise': 5, 'cakes': 3, 'lay': 4, 'SOME': 1, 'swallowed': 1, 'delighted': 2, 'crowd': 4, 'Lizard': 6, 'held': 4, 'guinea': 6, 'pigs': 6, 'giving': 2, 'rush': 2, 'appeared': 8, 'safe': 2, 'thick': 1, 'wood': 8, 'wandered': 2, 'plan': 4, 'excellent': 2, 'arranged': 1, 'difficulty': 4, 'smallest': 2, 'peering': 1, 'trees': 7, 'bark': 2, 'enormous': 1, 'puppy': 7, 'feebly': 1, 'stretching': 1, 'paw': 3, 'touch': 1, 'coaxing': 2, 'whistle': 1, 'terribly': 1, 'hungry': 3, 'spite': 1, 'Hardly': 1, 'picked': 3, 'stick': 4, 'whereupon': 1, 'yelp': 1, 'rushed': 1, 'worry': 1, 'dodged': 1, 'thistle': 2, 'keep': 9, 'run': 3, 'tumbled': 1, 'heels': 1, 'cart': 1, 'horse': 1, 'trampled': 1, 'series': 1, 'charges': 1, 'forwards': 1, 'each': 7, 'barking': 1, 'hoarsely': 1, 'mouth': 10, 'faint': 1, 'leant': 1, 'buttercup': 1, 'fanned': 1, 'teaching': 1, 'tricks': 1, 'blades': 1, 'grass': 4, 'circumstances': 1, 'mushroom': 8, 'height': 5, 'stretched': 2, 'tiptoe': 2, 'edge': 3, 'immediately': 3, 'caterpillar': 1, 'arms': 6, 'folded': 3, 'quietly': 5, 'smoking': 2, 'hookah': 5, 'V': 1, 'Advice': 1, 'Caterpillar': 27, 'addressed': 2, 'languid': 1, 'encouraging': 2, 'shyly': 1, 'present': 3, 'sternly': 1, 'Explain': 2, 'MYSELF': 1, 'clearly': 1, 'sizes': 1, 'confusing': 3, 'isn': 7, 'haven': 8, 'turn': 8, 'chrysalis': 1, 'butterfly': 1, 'may': 11, 'contemptuously': 2, 'brought': 3, 'irritated': 1, 'remarks': 3, 'state': 1, 'promising': 1, 'Keep': 2, 'Is': 3, 'swallowing': 1, 'anger': 2, 'wait': 1, 'puffed': 1, 'unfolded': 2, 'Can': 2, 'HOW': 1, 'DOTH': 1, 'LITTLE': 2, 'BUSY': 1, 'BEE': 1, 'Repeat': 1, 'OLD': 2, 'FATHER': 2, 'WILLIAM': 2, ',\"\\'': 4, 'Father': 2, 'man': 5, 'incessantly': 1, 'stand': 5, 'youth': 6, 'son': 1, 'feared': 1, 'injure': 1, 'brain': 1, 'perfectly': 4, 'none': 4, 'most': 8, 'uncommonly': 1, 'fat': 1, 'Yet': 3, 'somersault': 2, 'Pray': 3, 'sage': 1, 'grey': 1, 'limbs': 1, 'supple': 1, 'ointment': 1, 'shilling': 1, 'Allow': 1, 'sell': 2, 'couple': 1, 'weak': 2, 'tougher': 1, 'suet': 1, 'bones': 1, 'beak': 1, 'father': 2, 'argued': 1, 'wife': 1, 'muscular': 1, 'strength': 1, 'jaw': 1, 'Has': 1, 'lasted': 2, 'steady': 1, 'balanced': 1, 'eel': 2, 'nose': 8, 'awfully': 1, 'clever': 2, 'questions': 4, 'airs': 1, 'stuff': 3, 'Be': 2, 'QUITE': 2, 'timidly': 9, 'altered': 1, 'decidedly': 4, 'changing': 2, 'often': 5, 'DON': 1, 'T': 2, 'contradicted': 1, 'losing': 1, 'content': 1, 'wretched': 2, 'rearing': 1, 'upright': 1, 'piteous': 1, 'patiently': 2, 'chose': 2, 'yawned': 2, 'crawled': 1, 'merely': 2, 'taller': 2, 'shorter': 2, 'thoughtfully': 4, 'difficult': 2, 'broke': 2, 'nibbled': 2, 'violent': 2, 'blow': 2, 'underneath': 1, 'closely': 1, 'swallow': 1, 'morsel': 1, 'lefthand': 2, 'free': 3, 'alarm': 2, 'immense': 1, 'length': 1, 'rise': 1, 'stalk': 1, 'green': 4, 'where': 10, 'HAVE': 4, 'result': 1, 'follow': 2, 'shaking': 3, 'distant': 2, 'serpent': 6, 'succeeded': 3, 'curving': 1, 'graceful': 1, 'zigzag': 1, 'dive': 1, 'tops': 1, 'wandering': 2, 'hiss': 1, 'draw': 7, 'pigeon': 1, 'flown': 1, 'beating': 2, 'wings': 1, 'Serpent': 3, 'screamed': 4, 'Pigeon': 11, 'indignantly': 4, 'repeated': 10, 'subdued': 1, 'sob': 1, 'roots': 2, 'banks': 1, 'hedges': 1, 'serpents': 3, 'pleasing': 1, 'puzzled': 9, 'hatching': 1, 'eggs': 5, 'sleep': 6, 'weeks': 1, 'sorry': 1, 'annoyed': 1, 'taken': 4, 'highest': 1, 'tree': 8, 'raising': 1, 'needs': 1, 'wriggling': 1, 'invent': 1, 'doubtfully': 2, 'changes': 2, 'deepest': 1, 'contempt': 1, 'girls': 3, 'denying': 1, 'telling': 2, 'tasted': 3, 'egg': 1, 'truthful': 1, 'silent': 7, 'adding': 1, 'matters': 2, 'YOURS': 1, 'raw': 1, 'settled': 3, 'nest': 1, 'crouched': 1, 'entangled': 2, 'branches': 2, 'untwist': 1, 'pieces': 3, 'nibbling': 3, 'bringing': 3, 'beautiful': 8, 'Whoever': 1, 'lives': 4, 'frighten': 1, 'wits': 1, 'righthand': 1, 'VI': 1, 'Pig': 2, 'Pepper': 2, 'footman': 3, 'livery': 3, '--(': 1, 'considered': 3, 'otherwise': 4, 'judging': 1, 'fish': 6, ')--': 1, 'rapped': 1, 'loudly': 3, 'knuckles': 1, 'footmen': 1, 'powdered': 1, 'crept': 1, 'Fish': 2, 'Footman': 11, 'producing': 1, 'letter': 3, 'invitation': 2, 'Queen': 74, 'Frog': 1, 'order': 3, 'From': 1, 'curls': 1, 'laughed': 2, 'ground': 7, 'staring': 3, 'stupidly': 1, 'knocked': 1, 'reasons': 1, 'secondly': 2, 'inside': 1, 'extraordinary': 2, 'within': 2, 'constant': 2, 'howling': 3, 'sneezing': 6, 'dish': 4, 'kettle': 1, 'between': 5, 'instance': 3, 'INSIDE': 1, 'knock': 1, 'uncivil': 1, 'remarked': 10, 'tomorrow': 1, 'skimming': 1, 'grazed': 1, 'maybe': 1, 'louder': 1, 'told': 6, 'dreadful': 2, 'muttered': 2, 'argue': 1, 'drive': 1, 'crazy': 1, 'repeating': 3, 'remark': 10, 'variations': 1, 'days': 4, 'Anything': 1, 'whistling': 1, 'desperately': 1, 'idiotic': 1, 'kitchen': 4, 'smoke': 1, 'stool': 1, 'nursing': 3, 'baby': 14, 'cook': 13, 'leaning': 2, 'stirring': 2, 'cauldron': 2, 'soup': 4, 'pepper': 6, 'Even': 1, 'sneezed': 1, 'occasionally': 1, 'alternately': 1, 'pause': 2, 'sneeze': 2, 'hearth': 1, 'grinning': 1, 'ear': 6, 'manners': 1, 'grins': 1, 'Cheshire': 7, 'violence': 1, 'courage': 3, 'grinned': 3, 'pleased': 7, 'introduce': 2, 'While': 5, 'fix': 1, 'throwing': 2, 'irons': 1, 'saucepans': 1, 'plates': 2, 'dishes': 2, 'already': 2, 'blows': 1, 'PLEASE': 1, 'jumping': 4, 'agony': 1, 'terror': 1, 'PRECIOUS': 1, 'unusually': 1, 'saucepan': 1, 'flew': 1, 'carried': 4, 'everybody': 5, 'minded': 1, 'growl': 3, 'faster': 3, 'advantage': 3, 'takes': 2, 'hours': 4, 'axis': 1, 'Talking': 1, 'axes': 1, 'chop': 1, 'glanced': 1, 'meant': 5, 'hint': 2, 'busily': 4, 'Twenty': 1, 'bother': 1, 'abide': 1, 'figures': 1, 'singing': 2, 'lullaby': 1, 'shake': 1, 'line': 2, 'roughly': 1, 'boy': 3, 'beat': 4, 'sneezes': 2, 'annoy': 1, 'Because': 1, 'teases': 1, 'CHORUS': 2, '):--': 1, 'Wow': 2, 'wow': 4, 'sang': 2, 'verse': 4, 'song': 7, 'tossing': 3, 'howled': 1, 'thoroughly': 2, 'enjoy': 1, 'pleases': 1, 'flinging': 1, 'threw': 2, 'frying': 1, 'pan': 1, 'missed': 2, 'caught': 3, 'shaped': 3, 'creature': 4, 'star': 1, 'snorting': 1, 'steam': 1, 'engine': 1, 'doubling': 1, 'straightening': 1, 'proper': 3, 'twist': 2, 'tight': 1, 'prevent': 1, 'undoing': 1, 'IF': 2, 'kill': 1, 'murder': 1, 'grunted': 4, 'grunt': 1, 'expressing': 1, 'snout': 1, 'also': 2, 'extremely': 2, 'sobbing': 3, 'pig': 9, 'seriously': 1, 'sobbed': 1, 'NO': 1, 'neither': 2, 'less': 3, 'carry': 1, 'relieved': 1, 'trot': 1, 'dreadfully': 6, 'ugly': 2, 'handsome': 1, 'startled': 2, 'seeing': 1, 'Cat': 26, 'bough': 1, 'yards': 1, 'natured': 1, 'teeth': 1, 'treated': 1, 'respect': 1, 'Puss': 1, 'wider': 1, 'depends': 1, 'SOMEWHERE': 1, 'explanation': 2, 'denied': 2, 'waving': 5, 'Hatter': 55, 'March': 34, 'Hare': 31, 'Visit': 1, 'mad': 14, 'To': 1, 'grant': 1, 'growls': 1, 'wags': 1, 'wag': 1, 'Therefore': 1, 'growling': 1, 'Call': 4, 'invited': 2, 'happening': 1, 'became': 2, 'appear': 2, 'hatters': 1, 'May': 2, 'raving': 2, 'branch': 1, 'fig': 1, 'appearing': 1, 'vanishing': 1, 'giddy': 2, 'All': 5, 'ending': 2, 'farther': 1, 'chimneys': 1, 'thatched': 1, 'raised': 2, 'towards': 1, 'Suppose': 2, 'instead': 3, 'VII': 1, 'Mad': 1, 'Tea': 1, 'Party': 1, 'front': 2, 'Dormouse': 40, 'fast': 4, 'asleep': 8, 'using': 2, 'cushion': 2, 'resting': 2, 'elbows': 1, 'PLENTY': 1, 'chair': 1, 'Have': 3, 'wine': 2, 'civil': 3, 'laid': 2, 'Your': 2, 'wants': 2, 'cutting': 1, 'personal': 2, 'severity': 1, 'rude': 2, 'wide': 2, 'SAID': 2, 'raven': 1, 'writing': 6, 'desk': 1, 'fun': 3, 'riddles': 2, 'Exactly': 3, '\"!\\'': 3, 'breathe': 3, 'ravens': 1, 'desks': 1, 'break': 2, 'month': 2, 'uneasily': 2, 'fourth': 1, 'Two': 6, 'butter': 9, 'works': 1, 'BEST': 2, 'meekly': 2, 'crumbs': 4, 'grumbled': 1, 'bread': 7, 'gloomily': 1, 'cup': 2, 'shoulder': 4, 'tells': 2, 'o': 3, 'clock': 5, 'Does': 2, 'year': 2, 'readily': 1, 'stays': 1, 'MINE': 2, 'poured': 1, 'riddle': 1, 'slightest': 1, 'Nor': 1, 'wearily': 1, 'waste': 1, 'answers': 1, 'Time': 3, 'HIM': 3, 'cautiously': 3, 'music': 3, 'accounts': 1, 'terms': 1, 'twinkling': 4, 'Half': 1, 'mournfully': 1, 'quarrelled': 1, 'HE': 4, 'spoon': 2, 'concert': 2, 'given': 1, 'Hearts': 6, 'sing': 5, 'Twinkle': 3, 'twinkle': 5, 'Up': 2, 'fly': 3, 'Like': 1, 'tray': 1, 'pinch': 1, 'bawled': 1, 'murdering': 1, 'Off': 11, '!\"\\'': 3, 'exclaimed': 6, 'mournful': 1, 'sigh': 4, 'wash': 2, 'whiles': 1, 'interrupted': 9, 'yawning': 2, 'vote': 1, 'lady': 3, 'alarmed': 1, 'proposal': 1, 'Wake': 2, 'pinched': 2, 'fellows': 1, 'quick': 1, 'Once': 3, 'sisters': 2, 'names': 2, 'Elsie': 1, 'Lacie': 1, 'Tillie': 1, 'lived': 3, 'bottom': 4, 'interest': 1, 'eating': 1, 'drinking': 1, 'treacle': 5, 'ill': 2, 'ways': 1, 'living': 2, 'Take': 4, 'LESS': 1, 'MORE': 2, 'opinion': 1, 'triumphantly': 2, 'helped': 1, 'Sh': 1, 'sh': 1, 'sulkily': 2, 'interrupt': 1, 'consented': 1, 'learning': 2, 'promise': 1, 'Treacle': 2, 'clean': 1, 'unwillingly': 1, 'upset': 3, 'jug': 1, 'offend': 1, 'eh': 1, 'IN': 1, 'choosing': 1, 'interrupting': 2, 'rubbing': 2, 'manner': 2, 'begins': 4, 'M': 5, 'closed': 2, 'doze': 1, 'woke': 1, 'traps': 1, 'moon': 1, 'memory': 1, 'muchness': 3, 'drawing': 1, 'Really': 2, 'rudeness': 1, 'disgust': 1, 'teapot': 1, 'THERE': 1, 'stupidest': 1, 'leading': 1, 'today': 1, 'unlocking': 1, 'THEN': 1, 'flower': 2, 'VIII': 1, 'Croquet': 1, 'Ground': 1, 'rose': 4, 'entrance': 1, 'roses': 3, 'gardeners': 8, 'painting': 2, 'Look': 1, 'Five': 7, 'paint': 1, 'Seven': 5, 'jogged': 1, 'Always': 1, 'blame': 1, 'deserved': 1, 'beheaded': 3, 'spoken': 1, 'tulip': 1, 'onions': 1, 'flung': 1, 'brush': 1, 'unjust': 1, 'chanced': 1, 'watching': 3, 'checked': 3, 'RED': 1, 'afore': 1, 'themselves': 3, 'flat': 2, 'faces': 5, 'eager': 3, 'soldiers': 10, 'carrying': 2, 'clubs': 1, 'oblong': 1, 'corners': 1, 'courtiers': 2, 'ornamented': 2, 'diamonds': 1, 'royal': 2, 'merrily': 1, 'couples': 1, 'hearts': 1, 'guests': 3, 'mostly': 2, 'Kings': 1, 'Queens': 1, 'recognised': 1, 'noticing': 1, 'Knave': 9, 'King': 61, 'crimson': 2, 'velvet': 1, 'procession': 5, 'KING': 1, 'AND': 3, 'QUEEN': 1, 'HEARTS': 1, 'doubtful': 2, 'lie': 2, 'rule': 4, 'processions': 1, 'besides': 3, 'opposite': 1, 'smiled': 2, 'Idiot': 1, 'My': 3, 'Majesty': 12, 'pack': 5, 'cards': 3, 'needn': 3, 'THESE': 1, 'rosetree': 1, 'pattern': 1, 'backs': 1, 'fury': 1, 'glaring': 1, 'beast': 1, 'Nonsense': 1, 'Consider': 3, 'Turn': 3, 'Get': 2, 'bowing': 1, 'Leave': 1, 'humble': 1, 'knee': 5, 'meanwhile': 1, 'examining': 1, 'remaining': 1, 'execute': 1, 'unfortunate': 3, 'protection': 1, 'pot': 1, 'marched': 1, 'Their': 1, 'evidently': 1, 'roared': 1, 'fine': 2, 'peeping': 1, 'Hush': 2, 'whispered': 5, 'execution': 3, '!\"?\\'': 1, '?\"\\'': 3, 'boxed': 1, 'scream': 2, 'laughter': 1, 'hush': 1, 'places': 2, 'thunder': 1, 'ridges': 1, 'furrows': 1, 'balls': 1, 'hedgehogs': 3, 'mallets': 1, 'flamingoes': 2, 'double': 1, 'arches': 4, 'chief': 1, 'managing': 1, 'flamingo': 5, 'body': 2, 'tucked': 3, 'comfortably': 1, 'straightened': 1, 'hedgehog': 7, 'expression': 1, 'bursting': 1, 'laughing': 1, 'provoking': 1, 'unrolled': 2, 'act': 1, 'crawling': 1, 'ridge': 1, 'furrow': 1, 'send': 1, 'doubled': 1, 'parts': 1, 'players': 4, 'played': 1, 'turns': 3, 'quarrelling': 2, 'fighting': 1, 'furious': 1, 'stamping': 2, 'shouting': 2, 'uneasy': 1, 'dispute': 2, 'beheading': 1, 'alive': 3, 'appearance': 1, 'nodded': 1, 'account': 1, 'someone': 1, 'fairly': 1, 'complaining': 1, 'quarrel': 1, 'oneself': 1, 'attends': 1, 'arch': 1, 'croqueted': 1, 'win': 1, 'finishing': 1, 'friend': 3, 'kiss': 1, 'likes': 1, 'impertinent': 1, 'king': 1, 'removed': 2, 'passing': 1, 'settling': 1, 'difficulties': 1, 'executioner': 6, 'screaming': 1, 'search': 1, 'engaged': 1, 'fight': 2, 'croqueting': 1, 'helpless': 1, 'collected': 2, 'appealed': 1, 'settle': 1, 'arguments': 1, 'unless': 2, 'HIS': 1, 'weren': 1, 'anxious': 3, 'HER': 2, 'prison': 1, 'arrow': 1, 'fading': 1, 'entirely': 2, 'disappeared': 2, 'wildly': 2, 'IX': 1, 'Mock': 56, 'Turtle': 59, 'Story': 1, 'affectionately': 1, 'pleasant': 1, 'hopeful': 1, 'AT': 1, 'ALL': 4, 'Soup': 13, 'Maybe': 1, 'tempered': 2, 'vinegar': 1, 'sour': 1, 'camomile': 1, 'bitter': 1, 'barley': 1, 'sugar': 2, 'sweet': 1, 'stingy': 1, 'forget': 2, 'moral': 8, 'hasn': 2, 'Tut': 1, 'tut': 1, 'squeezed': 1, 'closer': 1, 'keeping': 2, 'uncomfortably': 1, 'bore': 1, \"''\": 2, 'Tis': 2, 'tis': 2, 'love': 2, 'Somebody': 1, 'minding': 1, 'morals': 1, 'waist': 1, 'Shall': 2, 'experiment': 2, 'bite': 2, 'mustard': 3, 'Birds': 1, 'feather': 1, 'flock': 1, 'Right': 1, 'mineral': 1, 'agree': 2, 'yours': 2, 'attended': 1, 'vegetable': 1, 'Never': 4, 'imagine': 1, 'cheap': 1, 'birthday': 1, 'Thinking': 1, 'dig': 1, 'worried': 1, 'died': 1, 'favourite': 1, 'linked': 1, 'hers': 4, 'tremble': 1, 'thunderstorm': 1, 'fair': 1, 'warning': 1, 'choice': 2, 'absence': 1, 'shade': 1, 'delay': 1, 'cost': 1, 'Those': 1, 'whom': 1, 'sentenced': 1, 'custody': 2, 'company': 1, 'pardoned': 1, 'executions': 2, 'Gryphon': 55, 'sun': 2, 'picture': 1, 'lazy': 1, 'leaving': 1, 'rubbed': 1, 'watched': 2, 'chuckled': 1, 'executes': 1, 'Everybody': 2, 'ledge': 1, 'rock': 1, 'heart': 2, 'pitied': 1, 'sorrow': 2, 'hollow': 1, 'EVEN': 1, 'These': 2, 'occasional': 1, 'exclamation': 1, 'Hjckrrh': 1, 'heavy': 2, 'Thank': 3, 'MUST': 3, 'calmly': 1, 'school': 6, 'Tortoise': 3, 'sink': 1, 'Drive': 1, 'mayn': 1, 'educations': 1, 'VE': 1, 'proud': 2, 'extras': 1, 'learned': 1, 'Certainly': 1, 'relief': 2, 'OURS': 1, 'bill': 1, 'WASHING': 1, 'extra': 1, 'afford': 1, 'regular': 2, 'inquired': 1, 'Reeling': 1, 'Writhing': 1, 'Arithmetic': 1, 'Ambition': 1, 'Distraction': 1, 'Uglification': 2, 'Derision': 1, 'lifted': 1, 'uglifying': 1, 'beautify': 1, 'prettier': 1, 'uglify': 1, 'simpleton': 1, 'encouraged': 1, 'Mystery': 2, 'counting': 1, 'subjects': 1, 'flappers': 1, 'ancient': 1, 'modern': 1, 'Seaography': 1, 'Drawling': 3, 'conger': 1, 'week': 3, 'Stretching': 1, 'Fainting': 1, 'Coils': 1, 'stiff': 1, 'Hadn': 1, 'Classics': 1, 'crab': 1, 'Laughing': 1, 'Grief': 1, 'hid': 1, 'Ten': 1, 'lessen': 1, 'eleventh': 1, 'holiday': 1, 'twelfth': 1, 'games': 1, 'X': 1, 'Lobster': 5, 'Quadrille': 4, 'flapper': 1, 'sobs': 4, 'Same': 1, 'bone': 1, 'punching': 1, 'recovered': 2, 'cheeks': 1, 'introduced': 1, 'lobster': 2, \"')\": 1, 'delightful': 2, 'dance': 13, 'form': 1, 'lines': 1, 'Seals': 1, 'turtles': 2, 'salmon': 1, 'cleared': 1, 'jelly': 1, 'advance': 3, 'Each': 1, 'partner': 1, 'partners': 1, 'lobsters': 7, 'retire': 1, 'bound': 1, 'Swim': 1, 'capering': 1, 'Change': 1, 'yelled': 1, 'Back': 1, 'land': 1, 'figure': 3, 'dropping': 1, 'pretty': 1, 'dancing': 2, 'treading': 2, 'toes': 3, 'forepaws': 1, 'mark': 3, '?\"': 2, 'whiting': 8, 'snail': 3, 'porpoise': 4, 'See': 1, 'shingle': 1, 'join': 9, 'Too': 1, 'askance': 1, 'thanked': 1, 'kindly': 2, 'scaly': 1, 'England': 1, 'France': 1, 'beloved': 1, 'dinn': 1, 'Dinn': 1, 'tails': 3, 'mouths': 4, \".--'\": 1, 'thrown': 1, 'DOES': 1, 'BOOTS': 1, 'SHOES': 1, 'shiny': 1, 'blacking': 1, 'Boots': 1, 'Soles': 1, 'eels': 1, 'shrimp': 1, 'thoughts': 2, 'obliged': 3, 'anywhere': 1, 'Wouldn': 1, 'journey': 1, 'purpose': 1, '\"?\\'': 1, 'adventures': 4, 'impatient': 1, 'explanations': 1, 'gained': 1, 'listeners': 1, 'part': 2, 'Stand': 1, '\"\\'': 1, 'TIS': 1, 'VOICE': 1, 'SLUGGARD': 1, 'baked': 1, 'duck': 1, 'eyelids': 1, 'Trims': 1, 'belt': 1, 'buttons': 1, 'editions': 2, 'follows': 3, 'sands': 1, 'gay': 1, 'lark': 1, 'contemptuous': 1, 'tones': 2, 'Shark': 1, 'tide': 1, 'rises': 1, 'sharks': 1, 'around': 3, 'His': 1, 'tremulous': 1, '.]': 1, 'uncommon': 1, 'EVER': 1, 'explained': 1, 'Go': 3, 'persisted': 2, 'disobey': 1, 'Owl': 3, 'Panther': 3, 'sharing': 1, 'pie': 3, 'crust': 1, 'gravy': 1, 'meat': 1, 'share': 1, 'treat': 1, 'boon': 1, 'Was': 1, 'permitted': 1, 'received': 1, 'fork': 1, 'banquet': 1, '--]': 1, 'Or': 1, 'Hm': 1, 'accounting': 1, 'tastes': 1, 'Sing': 1, 'Beautiful': 5, 'rich': 1, 'Waiting': 1, 'tureen': 1, 'dainties': 1, 'evening': 5, 'Beau': 4, 'ootiful': 4, 'Soo': 7, 'oop': 7, 'e': 6, 'cares': 2, 'Game': 1, 'Pennyworth': 2, 'beauti': 1, 'FUL': 1, 'SOUP': 1, 'Chorus': 1, 'panted': 1, 'faintly': 1, 'breeze': 1, 'XI': 1, 'Stole': 1, 'Tarts': 1, 'seated': 1, 'throne': 1, 'arrived': 1, 'standing': 1, 'chains': 1, 'soldier': 1, 'guard': 1, 'trumpet': 3, 'scroll': 2, 'parchment': 2, 'court': 17, 'tarts': 6, 'refreshments': 1, 'pass': 1, 'justice': 1, 'wig': 2, 'wore': 1, 'frontispiece': 1, 'comfortable': 1, 'becoming': 1, 'jurors': 4, 'rightly': 1, 'men': 1, 'slates': 8, 'Stupid': 1, 'indignant': 1, 'spectacles': 3, 'spell': 1, 'neighbour': 1, 'muddle': 1, 'pencil': 2, 'squeaked': 1, 'quickly': 2, 'juror': 1, 'Herald': 1, 'accusation': 1, 'blew': 2, 'blasts': 2, 'summer': 2, 'stole': 1, 'verdict': 4, 'witness': 10, 'teacup': 3, 'sent': 2, 'Fourteenth': 1, 'Fifteenth': 1, 'Sixteenth': 1, 'Write': 1, 'wrote': 3, 'dates': 1, 'reduced': 1, 'shillings': 1, 'pence': 1, 'hat': 1, 'Stolen': 1, 'memorandum': 1, 'hatter': 1, 'fidgeted': 1, 'Give': 3, 'evidence': 6, 'spot': 1, 'encourage': 1, 'shifting': 1, 'remain': 1, 'squeeze': 1, 'boldly': 1, 'reasonable': 1, 'pace': 1, 'ridiculous': 1, 'fashion': 2, 'officers': 4, 'Bring': 1, 'list': 3, 'singers': 2, 'thin': 1, 'dunce': 1, 'twinkled': 1, 'deny': 2, 'denies': 1, 'miserable': 2, 'speaker': 1, 'suppressed': 4, 'canvas': 1, 'bag': 1, 'tied': 1, 'strings': 1, 'newspapers': 1, 'trials': 1, 'attempts': 1, 'applause': 1, 'understood': 1, 'lower': 1, 'SIT': 1, 'officer': 1, 'Shan': 1, 'examine': 2, 'folding': 1, 'Collar': 1, 'shrieked': 1, 'Behead': 1, 'Suppress': 1, 'Pinch': 1, 'undertone': 2, 'ache': 1, 'fumbled': 1, 'YET': 1, 'Imagine': 1, 'XII': 1, 'Evidence': 1, 'flurry': 1, 'tipped': 1, 'skirt': 1, 'upsetting': 1, 'jurymen': 4, 'sprawling': 1, 'reminding': 1, 'globe': 1, 'goldfish': 2, 'accidentally': 1, 'BEG': 1, 'dismay': 1, 'accident': 2, 'vague': 1, 'die': 1, 'cannot': 1, 'emphasis': 1, 'haste': 1, 'downwards': 1, 'unable': 1, 'signifies': 1, 'shock': 1, 'pencils': 1, 'diligently': 1, 'overcome': 1, 'gazing': 1, 'Nothing': 4, 'WHATEVER': 1, 'UNimportant': 2, 'respectful': 1, 'unimportant': 3, 'note': 2, 'cackled': 1, 'Rule': 1, 'Forty': 1, 'PERSONS': 1, 'THAN': 1, 'MILE': 1, 'HIGH': 1, 'TO': 3, 'LEAVE': 1, 'COURT': 1, 'mile': 1, 'Nearly': 1, 'invented': 1, 'oldest': 1, 'Number': 1, 'prisoner': 2, 'directed': 2, 'OUTSIDE': 1, 'verses': 4, 'handwriting': 1, 'queerest': 1, 'imitated': 1, 'prove': 1, 'signed': 2, 'sign': 1, 'mischief': 1, 'honest': 1, 'clapping': 1, 'PROVES': 1, 'guilt': 1, 'proves': 1, 'Read': 1, 'Begin': 1, 'character': 1, '):': 1, 'push': 1, 'returned': 1, 'Though': 1, 'Involved': 1, 'affair': 1, 'trusts': 1, 'Before': 1, 'fit': 1, 'obstacle': 1, 'Him': 1, 'ourselves': 1, 'secret': 1, 'Between': 1, 'sixpence': 1, 'atom': 2, 'attempted': 1, 'saves': 1, 'spreading': 1, 'SWIM': 1, 'cardboard': 1, 'WE': 1, 'KNOW': 1, 'BE': 1, 'TRUE': 1, 'GAVE': 2, 'THEY': 2, 'RETURNED': 1, 'FROM': 1, 'clearer': 1, 'BEFORE': 1, 'HAD': 1, 'FIT': 2, 'fits': 1, 'furiously': 1, 'inkstand': 1, 'ink': 1, 'trickling': 1, 'pun': 1, 'consider': 1, 'twentieth': 1, 'Sentence': 1, 'Stuff': 1, 'purple': 1, 'flying': 1, 'brushing': 1, 'fluttered': 1, 'kissed': 1, 'wonderful': 2, 'setting': 1, 'dreaming': 1, 'dreamed': 1, 'clasped': 1, 'toss': 1, 'listened': 1, 'rustled': 1, 'splashed': 1, 'neighbouring': 1, 'rattle': 1, 'teacups': 2, 'shared': 1, 'meal': 1, 'crashed': 1, 'choking': 1, 'believed': 1, 'reality': 1, 'rustling': 1, 'rippling': 1, 'reeds': 1, 'tinkling': 1, 'sheep': 1, 'bells': 1, 'cries': 1, 'shepherd': 1, 'noises': 1, 'clamour': 1, 'busy': 1, 'farm': 1, 'yard': 1, 'lowing': 1, 'cattle': 1, 'Lastly': 1, 'pictured': 1, 'riper': 1, 'years': 1, 'loving': 1, 'childhood': 1, 'gather': 1, 'THEIR': 1, 'sorrows': 1, 'joys': 1, 'remembering': 1, 'happy': 1}\n"
     ]
    }
   ],
   "source": [
    "print(word_dictionary)"
   ]
  },
  {
   "cell_type": "code",
   "execution_count": 55,
   "metadata": {},
   "outputs": [],
   "source": [
    "import pandas as pd\n",
    "word_df = pd.DataFrame.from_dict(word_dictionary, orient='index')\n",
    "word_df.sort_values(by=0,inplace=True, ascending=False)"
   ]
  },
  {
   "cell_type": "code",
   "execution_count": 56,
   "metadata": {},
   "outputs": [],
   "source": [
    "# rank vs. frequency\n",
    "word_df = word_df.reset_index(drop=False)\n",
    "word_df.columns = [\"Word\",'Frequency']"
   ]
  },
  {
   "cell_type": "code",
   "execution_count": 59,
   "metadata": {},
   "outputs": [
    {
     "data": {
      "image/png": "[encoded data removed]",
      "text/plain": [
       "<Figure size 432x288 with 1 Axes>"
      ]
     },
     "metadata": {
      "needs_background": "light"
     },
     "output_type": "display_data"
    }
   ],
   "source": [
    "import seaborn as sns\n",
    "ax = sns.scatterplot(x=range(0,len(word_df)), y=\"Frequency\", data=word_df)"
   ]
  },
  {
   "cell_type": "code",
   "execution_count": 60,
   "metadata": {},
   "outputs": [
    {
     "name": "stdout",
     "output_type": "stream",
     "text": [
      "!\"#$%&'()*+,-./:;<=>?@[\\]^_`{|}~\n"
     ]
    }
   ],
   "source": [
    "import string\n",
    "print(string.punctuation)"
   ]
  },
  {
   "cell_type": "code",
   "execution_count": 63,
   "metadata": {},
   "outputs": [
    {
     "name": "stdout",
     "output_type": "stream",
     "text": [
      "['i', 'me', 'my', 'myself', 'we', 'our', 'ours', 'ourselves', 'you', \"you're\", \"you've\", \"you'll\", \"you'd\", 'your', 'yours', 'yourself', 'yourselves', 'he', 'him', 'his', 'himself', 'she', \"she's\", 'her', 'hers', 'herself', 'it', \"it's\", 'its', 'itself', 'they', 'them', 'their', 'theirs', 'themselves', 'what', 'which', 'who', 'whom', 'this', 'that', \"that'll\", 'these', 'those', 'am', 'is', 'are', 'was', 'were', 'be', 'been', 'being', 'have', 'has', 'had', 'having', 'do', 'does', 'did', 'doing', 'a', 'an', 'the', 'and', 'but', 'if', 'or', 'because', 'as', 'until', 'while', 'of', 'at', 'by', 'for', 'with', 'about', 'against', 'between', 'into', 'through', 'during', 'before', 'after', 'above', 'below', 'to', 'from', 'up', 'down', 'in', 'out', 'on', 'off', 'over', 'under', 'again', 'further', 'then', 'once', 'here', 'there', 'when', 'where', 'why', 'how', 'all', 'any', 'both', 'each', 'few', 'more', 'most', 'other', 'some', 'such', 'no', 'nor', 'not', 'only', 'own', 'same', 'so', 'than', 'too', 'very', 's', 't', 'can', 'will', 'just', 'don', \"don't\", 'should', \"should've\", 'now', 'd', 'll', 'm', 'o', 're', 've', 'y', 'ain', 'aren', \"aren't\", 'couldn', \"couldn't\", 'didn', \"didn't\", 'doesn', \"doesn't\", 'hadn', \"hadn't\", 'hasn', \"hasn't\", 'haven', \"haven't\", 'isn', \"isn't\", 'ma', 'mightn', \"mightn't\", 'mustn', \"mustn't\", 'needn', \"needn't\", 'shan', \"shan't\", 'shouldn', \"shouldn't\", 'wasn', \"wasn't\", 'weren', \"weren't\", 'won', \"won't\", 'wouldn', \"wouldn't\"]\n"
     ]
    }
   ],
   "source": [
    "from nltk.corpus import stopwords\n",
    "print(stopwords.words(\"english\"))"
   ]
  },
  {
   "cell_type": "code",
   "execution_count": 71,
   "metadata": {},
   "outputs": [],
   "source": [
    "## Normalization\n",
    "# everything in lowercase\n",
    "# remove punctuation\n",
    "# remove all stopwords\n",
    "\n",
    "word_dictionary_normalized = {}\n",
    "for sentence in sentences:\n",
    "    for word in sentence:\n",
    "        word = word.lower()\n",
    "        if word in string.punctuation:\n",
    "            break\n",
    "        else:\n",
    "            if word in stopwords.words(\"english\"):\n",
    "                break\n",
    "            else:\n",
    "                if not word in word_dictionary_normalized:\n",
    "                    word_dictionary_normalized[word] = 1\n",
    "                else:\n",
    "                    word_dictionary_normalized[word] +=1"
   ]
  },
  {
   "cell_type": "code",
   "execution_count": 72,
   "metadata": {},
   "outputs": [],
   "source": [
    "word_df_norm = pd.DataFrame.from_dict(word_dictionary_normalized, orient='index')\n",
    "word_df_norm.sort_values(by=0,inplace=True, ascending=False)"
   ]
  },
  {
   "cell_type": "code",
   "execution_count": 73,
   "metadata": {},
   "outputs": [
    {
     "data": {
      "text/html": [
       "<div>\n",
       "<style scoped>\n",
       "    .dataframe tbody tr th:only-of-type {\n",
       "        vertical-align: middle;\n",
       "    }\n",
       "\n",
       "    .dataframe tbody tr th {\n",
       "        vertical-align: top;\n",
       "    }\n",
       "\n",
       "    .dataframe thead th {\n",
       "        text-align: right;\n",
       "    }\n",
       "</style>\n",
       "<table border=\"1\" class=\"dataframe\">\n",
       "  <thead>\n",
       "    <tr style=\"text-align: right;\">\n",
       "      <th></th>\n",
       "      <th>0</th>\n",
       "    </tr>\n",
       "  </thead>\n",
       "  <tbody>\n",
       "    <tr>\n",
       "      <th>alice</th>\n",
       "      <td>149</td>\n",
       "    </tr>\n",
       "    <tr>\n",
       "      <th>said</th>\n",
       "      <td>117</td>\n",
       "    </tr>\n",
       "    <tr>\n",
       "      <th>thought</th>\n",
       "      <td>16</td>\n",
       "    </tr>\n",
       "    <tr>\n",
       "      <th>cried</th>\n",
       "      <td>15</td>\n",
       "    </tr>\n",
       "    <tr>\n",
       "      <th>however</th>\n",
       "      <td>13</td>\n",
       "    </tr>\n",
       "  </tbody>\n",
       "</table>\n",
       "</div>"
      ],
      "text/plain": [
       "           0\n",
       "alice    149\n",
       "said     117\n",
       "thought   16\n",
       "cried     15\n",
       "however   13"
      ]
     },
     "execution_count": 73,
     "metadata": {},
     "output_type": "execute_result"
    }
   ],
   "source": [
    "word_df_norm.head()"
   ]
  },
  {
   "cell_type": "code",
   "execution_count": 75,
   "metadata": {},
   "outputs": [],
   "source": [
    "# rank vs. frequency\n",
    "word_df_norm = word_df_norm.reset_index(drop=False)\n",
    "word_df_norm.columns = [\"Word\",'Frequency']"
   ]
  },
  {
   "cell_type": "code",
   "execution_count": 76,
   "metadata": {},
   "outputs": [
    {
     "data": {
      "image/png": "[encoded data removed]",
      "text/plain": [
       "<Figure size 432x288 with 1 Axes>"
      ]
     },
     "metadata": {
      "needs_background": "light"
     },
     "output_type": "display_data"
    }
   ],
   "source": [
    "ax = sns.scatterplot(x=range(0,len(word_df_norm)), y=\"Frequency\", data=word_df_norm)"
   ]
  },
  {
   "cell_type": "code",
   "execution_count": null,
   "metadata": {},
   "outputs": [],
   "source": []
  }
 ],
 "metadata": {
  "kernelspec": {
   "display_name": "Python 3",
   "language": "python",
   "name": "python3"
  },
  "language_info": {
   "codemirror_mode": {
    "name": "ipython",
    "version": 3
   },
   "file_extension": ".py",
   "mimetype": "text/x-python",
   "name": "python",
   "nbconvert_exporter": "python",
   "pygments_lexer": "ipython3",
   "version": "3.6.7"
  }
 },
 "nbformat": 4,
 "nbformat_minor": 2
}
