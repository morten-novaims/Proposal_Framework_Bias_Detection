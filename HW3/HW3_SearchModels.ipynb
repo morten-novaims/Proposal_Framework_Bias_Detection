{
 "cells": [
  {
   "cell_type": "markdown",
   "metadata": {},
   "source": [
    "## Homework 3"
   ]
  },
  {
   "cell_type": "code",
   "execution_count": 2,
   "metadata": {},
   "outputs": [
    {
     "name": "stderr",
     "output_type": "stream",
     "text": [
      "[nltk_data] Downloading package twitter_samples to\n",
      "[nltk_data]     /home/jovyan/nltk_data...\n",
      "[nltk_data]   Package twitter_samples is already up-to-date!\n"
     ]
    }
   ],
   "source": [
    "import nltk\n",
    "import text_transformer as tt\n",
    "nltk.download('twitter_samples')\n",
    "from nltk.corpus import twitter_samples\n",
    "tweets = twitter_samples.docs()\n",
    "docs = [t['text'] for t in tweets]"
   ]
  },
  {
   "cell_type": "code",
   "execution_count": 11,
   "metadata": {
    "scrolled": true
   },
   "outputs": [],
   "source": [
    "unique_tweets = list(set(docs))"
   ]
  },
  {
   "cell_type": "markdown",
   "metadata": {},
   "source": [
    "### Inverted Indexes\n",
    "__Build your own inverted indexes. Create a class that takes as input a\n",
    "query and retrieves all the documents that relate to it. This is related to\n",
    "the boolean search model we saw in class.__"
   ]
  },
  {
   "cell_type": "markdown",
   "metadata": {},
   "source": [
    "For every document in the dataset preprocess the tweets with tokenization stemming and remove stop words, do some pre processing of #hashtags and @mentions. remove repeated tweets."
   ]
  },
  {
   "cell_type": "code",
   "execution_count": 14,
   "metadata": {},
   "outputs": [],
   "source": [
    "unique_tweets_processed = [tt.tokenizer(tweet) for tweet in unique_tweets]"
   ]
  },
  {
   "cell_type": "code",
   "execution_count": 15,
   "metadata": {},
   "outputs": [],
   "source": [
    "unique_tweets_processed = [tt.normalizer(tweet) for tweet in unique_tweets_processed]"
   ]
  },
  {
   "cell_type": "code",
   "execution_count": 16,
   "metadata": {},
   "outputs": [],
   "source": [
    "unique_tweets_processed = [tt.stemmer(tweet) for tweet in unique_tweets_processed]"
   ]
  },
  {
   "cell_type": "code",
   "execution_count": 19,
   "metadata": {},
   "outputs": [
    {
     "name": "stdout",
     "output_type": "stream",
     "text": [
      "@JimForScotland What bluff? There was no bluff. SNP offer deal to keep Tories out Labour reject it and ignore Scots voters #RedToriesOut\n",
      "['jimforscotland', 'what', 'bluff', 'there', 'bluff', 'snp', 'offer', 'deal', 'keep', 'tori', 'labour', 'reject', 'ignor', 'scot', 'voter', 'redtoriesout']\n"
     ]
    }
   ],
   "source": [
    "print(unique_tweets[0])\n",
    "print(unique_tweets_processed[0])\n",
    "# Hastags and mentions are removed, not sure this is the goal"
   ]
  },
  {
   "cell_type": "markdown",
   "metadata": {},
   "source": [
    "Create the inverted indexes for each doc(tweet) in the dataset after\n",
    "processing"
   ]
  },
  {
   "cell_type": "code",
   "execution_count": 51,
   "metadata": {},
   "outputs": [],
   "source": [
    "word_index = {i:set() for i in set(tt.flatten(unique_tweets_processed))}\n",
    "\n",
    "for index, tweet in enumerate(unique_tweets_processed):\n",
    "    for word in tweet:\n",
    "        word_index[word].add(index)"
   ]
  },
  {
   "cell_type": "code",
   "execution_count": 52,
   "metadata": {},
   "outputs": [
    {
     "name": "stdout",
     "output_type": "stream",
     "text": [
      "{14726, 13386, 3243, 1932, 1585, 5172, 7797, 19508, 7448, 7228, 12351}\n",
      "['thelastleg', 'tori', 'say', 'open', 'doctor', 'surgeri', 'seven', 'day', 'close', 'git']\n",
      "@TheLastLeg if the Tory's are saying about opening doctor surgery s seven days why are their closing them.#gits\n"
     ]
    }
   ],
   "source": [
    "print(word_index[\"seven\"])\n",
    "print(unique_tweets_processed[1585])\n",
    "print(unique_tweets[1585])"
   ]
  },
  {
   "cell_type": "markdown",
   "metadata": {},
   "source": [
    "Implement a boolean based query search method. with ands and ors.  \n",
    "* Return the documents that match “Farage” and “EU”\n",
    "* Return the documents that match “camera” or “photo”"
   ]
  },
  {
   "cell_type": "code",
   "execution_count": 73,
   "metadata": {},
   "outputs": [
    {
     "data": {
      "application/vnd.jupyter.widget-view+json": {
       "model_id": "e25235cc7da74c08b06d2bcd86a23018",
       "version_major": 2,
       "version_minor": 0
      },
      "text/plain": [
       "Text(value='Farag')"
      ]
     },
     "metadata": {},
     "output_type": "display_data"
    },
    {
     "data": {
      "application/vnd.jupyter.widget-view+json": {
       "model_id": "cb90b2d01fbb4ad8b0473ef2c01b6798",
       "version_major": 2,
       "version_minor": 0
      },
      "text/plain": [
       "RadioButtons(options=('and', 'or'), value='and')"
      ]
     },
     "metadata": {},
     "output_type": "display_data"
    },
    {
     "data": {
      "application/vnd.jupyter.widget-view+json": {
       "model_id": "7f88d69fbe3b477ca7611a8ab63edb02",
       "version_major": 2,
       "version_minor": 0
      },
      "text/plain": [
       "Text(value='EU')"
      ]
     },
     "metadata": {},
     "output_type": "display_data"
    },
    {
     "name": "stdout",
     "output_type": "stream",
     "text": [
      "camera or photo\n",
      "Nothing like a little team photo on a Thursday @ENTIQ all smiles even @JoeGardiner5 :) http://t.co/0yeacg6r5p\n",
      "ppl think farage is a proper lad cos he drinks a pint for the camera, guy was a banker\n",
      "“@stylemepretty: Peach dresses and oh-so beautiful florals: http://t.co/7uxZPLohJ5\n",
      "Photo: Tory Williams http://t.co/TcUn4X5MxE” #kuwait\n",
      "Add me on KIK : hiondsheings58543 #kik #hornykik #photo #kikmenow #french #sabadodeganarseguidores #sexdate :( http://t.co/o8q0yUdrE9\n",
      "Sorry there have not been as many updates as usual - I have been told people are missing the photos lol :) I have... http://t.co/4qEN7HpBF8\n",
      "I think I might endit my London photos &amp; vids into a Minecon &amp; a London video :) just to look at and remember the great time. *-*\n",
      "@cl_aus is this on the back of the camera? If so you have AF point display enabled. @glyndewis's company car :-) http://t.co/pJltRVVBHn\n",
      "We are thrilled to be on our first international assignment as aerial camera operators....Wales here we come #Boom : ) Never forget to smile\n",
      "Photo: feetblog101: :) http://t.co/6ZcJeWCqro\n",
      "@GrahamTownsend wait... is EVERYONE in that photo on the phone? I wonder if they are talking to each other lol :D\n",
      "@OfficialKatzD Great photos, thank you very much for sharing your adventure with us! :-)\n",
      "Love it! :) 13 photos that explain why Ukraine is not Russia http://t.co/KfblbBBYkQ http://t.co/2EYOfYUWwy\n",
      "Photo: benedictervention: This is what happens to the contents of 221B between seasons :( You’d think... http://t.co/XXXtCKj5SP\n",
      "Cardio done! STEAK on the go this time. Cue the photo. :p At my laptop putting things together! EXCITING :D http://t.co/xfv9CElbNH\n",
      "the bbc have just changed their lead photo for #bbcqt coverage from cameron and miliband to include clegg too - someone been complaining?\n",
      "didnt took photos with you :-(\n",
      "looking at old photos and getting sad :(\n",
      "RT @erstheater: Tory Vazquez, James Hannaham, Scott Shepherd and Rinne Groff in “Cab Legs”, 1997. Photo by C Scharre. #ERSarchives http://t…\n",
      "RT @Classic_Rowdz: It's been 24 hours.  My family are yet to notice I replaced my school photo with a picture of Nigel Farage http://t.co/F…\n",
      "I need to get my photo taken for my licence this weekend and I have rly bad acne along my chin and forehead :(\n",
      "RT @stylemepretty: Peach dresses and oh-so beautiful florals: http://t.co/lWMveOKMZW\n",
      "Photo: Tory Williams http://t.co/mGgJ5jx3N1\n",
      "Photo: boyirl: :( http://t.co/DphfgsuG1i\n",
      "Photo: feetblog101: :) http://t.co/fN0ojENcCm\n",
      "@JustTakeMeHome_ aw I used the same photo :(\n",
      "@NeilWhoreAnn some French fans made a movie about the WWAT in France last year with our videos and photos :)\n",
      "I had a dream that I met Karlie Kloss &amp; she was so so sweet &amp; she wanted to take like a bunch of goofy photos with me. :(\n",
      "Hey @thebeautyjo r u a camera? cuz everytime I look @ u I smile :) #liveonstreamate http://t.co/gHeHG8X8ij\n",
      "@HolmesdaleCC Brill let us know when will have camera ready :)\n",
      "@wildrunnerza @ctmarathon @runnersworldza One of those \"ok i'll run for the photo' moments :D\n",
      "@OliviaKaparang @BTS_twt for the fansign and take photo is more expensive :(\n",
      ":) enjoy photos from before/when my mom was a baby http://t.co/1wqZetbvQu\n",
      "RT @abstex: The FT is backing the Tories. On an unrelated note, here's a photo of FT leader writer Jonathan Ford (next to Boris) http://t.c…\n",
      "Pixgram is an app to have a creative slideshow with photos and music you love. Download Pixgram for free :) https://t.co/iiqnFeiB5s 😒🌚\n",
      "@abstex @AnnPettifor nice to see David Cameron in the photo too\n",
      "To think this could be the last photo of these 11 all together... I hate the transfer window. :-( https://t.co/r4yiR7pAgj\n",
      "our national bird in Wayanadan forests.. :)\n",
      "#Wayanad\n",
      "\n",
      "Photo: Srijith V\n",
      "visit his website - http://t.co/ASE1uj9byB http://t.co/RNQP0i8gKS\n",
      "If you wanna see you more beautiful then rotate your photo !\n",
      "It works.....\n",
      ":p\n",
      ":v\n",
      "I'm really sad i had the live photo sets in my cart but the shop logged me out :(\n",
      "Snapchat me guys - sexyjane19 #snapchat #kik #Horny #bestoftheday #photo #goodmusic #sexual :( http://t.co/0RZnnSlxq9\n",
      "@johnniewalkerph a photographer took a photo of us last night, where can i find it? Or all the photos of the event :)\n",
      "@BotchFrivarg @SusanYura and a me hiding behind his large format camera :-)\n",
      "Photo: randy9bis: Beautiful physique, shaved, uncut, and a tattoo: sexy boi !  :-) http://t.co/XcWxo5jVVY\n",
      "Happiness is ... Seeing a photo of rescue mutt on twitter :) @Vivienneclore\n",
      "My KIK : oulive70748 #kik #kikmenow #photo #babe #loveofmylife #brasileirao #viernesderolenahot :( http://t.co/GmmwD4PrhU\n",
      "KIK me : smadvow544 #kik #kikgirl #lgbt #photo #model #free #hottie :( http://t.co/Rzo9DqAXei\n",
      "@RohitBJP @DrShobha i request those media Persons covering \"Rally\" please rotate their camera just once. :)\n",
      "@ShipsterUSA @alwafa @mamdouh733 @MyUS_Shopaholic I would have but I'm still waiting for the email :( check photo. http://t.co/k8uYr8Me57\n"
     ]
    }
   ],
   "source": [
    "from ipywidgets import widgets\n",
    "text1 = widgets.Text(value=\"Farag\")\n",
    "options = widgets.RadioButtons(options=['and', 'or'])\n",
    "text2 = widgets.Text(value=\"EU\")\n",
    "\n",
    "def action(words):\n",
    "    print(text1.value,options.value,text2.value)\n",
    "    if options.value == \"and\":\n",
    "        select_tweets = word_index[text1.value.lower()] & word_index[text2.value.lower()]\n",
    "    else:\n",
    "        select_tweets = word_index[text1.value.lower()] | word_index[text2.value.lower()] \n",
    "    [print(unique_tweets[tweet_id]) for tweet_id in select_tweets]\n",
    "        \n",
    "\n",
    "display(text1)\n",
    "display(options)\n",
    "display(text2)\n",
    "text1.on_submit(action)\n",
    "text2.on_submit(action)"
   ]
  },
  {
   "cell_type": "code",
   "execution_count": null,
   "metadata": {},
   "outputs": [],
   "source": []
  }
 ],
 "metadata": {
  "kernelspec": {
   "display_name": "Python 3",
   "language": "python",
   "name": "python3"
  },
  "language_info": {
   "codemirror_mode": {
    "name": "ipython",
    "version": 3
   },
   "file_extension": ".py",
   "mimetype": "text/x-python",
   "name": "python",
   "nbconvert_exporter": "python",
   "pygments_lexer": "ipython3",
   "version": "3.6.3"
  }
 },
 "nbformat": 4,
 "nbformat_minor": 2
}
