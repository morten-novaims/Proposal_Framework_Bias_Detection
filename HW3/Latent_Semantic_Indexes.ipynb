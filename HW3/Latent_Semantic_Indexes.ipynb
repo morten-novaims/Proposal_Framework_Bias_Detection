{
 "cells": [
  {
   "cell_type": "markdown",
   "metadata": {},
   "source": [
    "## Latent Semantic Indexes"
   ]
  },
  {
   "cell_type": "markdown",
   "metadata": {},
   "source": [
    "### Exercise  2:\n",
    "- 2.1 Build the term-doc matrix and apply tf-idf to the counts (after preprocessing).\n",
    "- 2.2 Decompose your matrix into its singular factors. (SVD)\n",
    "- 2.3 Provide the MRR over the query “Nigel Farage leading new pro brexit party”."
   ]
  },
  {
   "cell_type": "code",
   "execution_count": 1,
   "metadata": {},
   "outputs": [
    {
     "name": "stdout",
     "output_type": "stream",
     "text": [
      "Requirement already satisfied: nltk in /opt/conda/lib/python3.6/site-packages (3.4)\r\n",
      "Requirement already satisfied: six in /opt/conda/lib/python3.6/site-packages (from nltk) (1.12.0)\r\n",
      "Requirement already satisfied: singledispatch in /opt/conda/lib/python3.6/site-packages (from nltk) (3.4.0.3)\r\n"
     ]
    }
   ],
   "source": [
    "! pip install nltk"
   ]
  },
  {
   "cell_type": "code",
   "execution_count": 2,
   "metadata": {},
   "outputs": [],
   "source": [
    "import nltk"
   ]
  },
  {
   "cell_type": "code",
   "execution_count": 3,
   "metadata": {},
   "outputs": [
    {
     "name": "stderr",
     "output_type": "stream",
     "text": [
      "[nltk_data] Downloading package twitter_samples to\n",
      "[nltk_data]     /home/jovyan/nltk_data...\n",
      "[nltk_data]   Package twitter_samples is already up-to-date!\n"
     ]
    },
    {
     "data": {
      "text/plain": [
       "True"
      ]
     },
     "execution_count": 3,
     "metadata": {},
     "output_type": "execute_result"
    }
   ],
   "source": [
    "nltk.download(\"twitter_samples\")"
   ]
  },
  {
   "cell_type": "code",
   "execution_count": 4,
   "metadata": {},
   "outputs": [
    {
     "name": "stderr",
     "output_type": "stream",
     "text": [
      "[nltk_data] Downloading package punkt to /home/jovyan/nltk_data...\n",
      "[nltk_data]   Package punkt is already up-to-date!\n",
      "[nltk_data] Downloading package wordnet to /home/jovyan/nltk_data...\n",
      "[nltk_data]   Package wordnet is already up-to-date!\n",
      "[nltk_data] Downloading package stopwords to /home/jovyan/nltk_data...\n",
      "[nltk_data]   Package stopwords is already up-to-date!\n"
     ]
    }
   ],
   "source": [
    "import text_transformer as tt"
   ]
  },
  {
   "cell_type": "code",
   "execution_count": 5,
   "metadata": {},
   "outputs": [],
   "source": [
    "from nltk.corpus import twitter_samples\n",
    "tweets = twitter_samples.docs()\n",
    "docs = [t['text'] for t in tweets]"
   ]
  },
  {
   "cell_type": "code",
   "execution_count": 6,
   "metadata": {},
   "outputs": [],
   "source": [
    "unique_tweets = list(set(docs)) # use just the unique tweets"
   ]
  },
  {
   "cell_type": "code",
   "execution_count": 7,
   "metadata": {},
   "outputs": [],
   "source": [
    "unique_tweets_processed = [tt.tokenizer(tweet) for tweet in unique_tweets] # tokenize the tweets"
   ]
  },
  {
   "cell_type": "code",
   "execution_count": 8,
   "metadata": {},
   "outputs": [],
   "source": [
    "unique_tweets_processed = [tt.normalizer(tweet) for tweet in unique_tweets_processed] # normalize the tweets"
   ]
  },
  {
   "cell_type": "code",
   "execution_count": 9,
   "metadata": {},
   "outputs": [],
   "source": [
    "unique_tweets_processed = [tt.stemmer(tweet) for tweet in unique_tweets_processed] # apply stemming to the tweets"
   ]
  },
  {
   "cell_type": "code",
   "execution_count": 10,
   "metadata": {},
   "outputs": [],
   "source": [
    "# take randomly one third of the tweets in order to finish it in a reasonable processing time\n",
    "import random\n",
    "percentage = 10\n",
    "reduced_tweets = random.sample(unique_tweets_processed, int(len(unique_tweets_processed)*(percentage/100)))"
   ]
  },
  {
   "cell_type": "markdown",
   "metadata": {},
   "source": [
    "In text mining, it is important to create the document-term matrix (DTM) of the corpus we are interested in. A DTM is basically a matrix, with documents designated by rows and words by columns, that the elements are the counts or the weights (usually by tf-idf). Subsequent analysis is usually based creatively on DTM.\n",
    "\n",
    "https://datawarrior.wordpress.com/2018/01/22/document-term-matrix-text-mining-in-r-and-python/"
   ]
  },
  {
   "cell_type": "code",
   "execution_count": 11,
   "metadata": {},
   "outputs": [],
   "source": [
    "# the IDF (inverted document frequency) is measuring the frequency a word exists in a document and invert this number\n",
    "# formula: log(total number of documents/number of documents the word exist in)\n",
    "# in our case it will measure the word in a tweet\n",
    "def computeIDF (tweets):\n",
    "    import math\n",
    "    idfDict = {}\n",
    "    N = len(tweets) # get number of tweets in collection\n",
    "    \n",
    "    for tweet in tweets:\n",
    "        for index in range(0,len(tweets[tweet])):\n",
    "            if tweets[tweet][index][0] in idfDict:     # tweets[tweet][index][0] represent one word of a tweet\n",
    "                                                        # the index is necessary to address the word and not the count\n",
    "                idfDict[tweets[tweet][index][0]] += 1   # if the word hasn't been added to the dict yet, do\n",
    "            else:\n",
    "                idfDict[tweets[tweet][index][0]] = 1\n",
    "\n",
    "    for word, val in idfDict.items():\n",
    "        idfDict[word] = math.log10(N/float(val)) #  <- magic formula\n",
    "    \n",
    "    return idfDict"
   ]
  },
  {
   "cell_type": "code",
   "execution_count": 12,
   "metadata": {},
   "outputs": [],
   "source": [
    "# formula: (1+ log(TF)) * IDF\n",
    "def computeTFIDF(tfDict, idfDict):\n",
    "    import math\n",
    "    tfidf = {}\n",
    "    for word, val in tfDict.items():\n",
    "        tfidf[word] = (1 + math.log(val))*idfDict[word]\n",
    "        \n",
    "    return tfidf"
   ]
  },
  {
   "cell_type": "code",
   "execution_count": 13,
   "metadata": {},
   "outputs": [],
   "source": [
    "# create a dictionary using the index of each tweet as the key\n",
    "tweets = {}\n",
    "index = 0\n",
    "for tweet in reduced_tweets:\n",
    "    tweets[index] = tweet\n",
    "    index += 1"
   ]
  },
  {
   "cell_type": "code",
   "execution_count": 14,
   "metadata": {},
   "outputs": [],
   "source": [
    "# count frequencies for each tweet\n",
    "tweet_count = {tweet : tt.count_frequencies(tweets[tweet]) for tweet in tweets}"
   ]
  },
  {
   "cell_type": "code",
   "execution_count": 15,
   "metadata": {},
   "outputs": [],
   "source": [
    "idf = computeIDF(tweet_count)"
   ]
  },
  {
   "cell_type": "markdown",
   "metadata": {},
   "source": [
    "### Term Doc Matrix\n",
    "\n",
    "following the wikipedia-approach: https://en.wikipedia.org/wiki/Document-term_matrix"
   ]
  },
  {
   "cell_type": "code",
   "execution_count": 16,
   "metadata": {},
   "outputs": [],
   "source": [
    "import pandas as pd\n",
    "import numpy as np"
   ]
  },
  {
   "cell_type": "code",
   "execution_count": 17,
   "metadata": {},
   "outputs": [],
   "source": [
    "unique_words = set(tt.flatten(reduced_tweets))"
   ]
  },
  {
   "cell_type": "code",
   "execution_count": 18,
   "metadata": {},
   "outputs": [],
   "source": [
    "td_matrix = pd.DataFrame(0, index=np.arange(0), columns=unique_words)"
   ]
  },
  {
   "cell_type": "code",
   "execution_count": 19,
   "metadata": {},
   "outputs": [
    {
     "data": {
      "text/html": [
       "<div>\n",
       "<style scoped>\n",
       "    .dataframe tbody tr th:only-of-type {\n",
       "        vertical-align: middle;\n",
       "    }\n",
       "\n",
       "    .dataframe tbody tr th {\n",
       "        vertical-align: top;\n",
       "    }\n",
       "\n",
       "    .dataframe thead th {\n",
       "        text-align: right;\n",
       "    }\n",
       "</style>\n",
       "<table border=\"1\" class=\"dataframe\">\n",
       "  <thead>\n",
       "    <tr style=\"text-align: right;\">\n",
       "      <th></th>\n",
       "      <th>hardli</th>\n",
       "      <th>o…</th>\n",
       "      <th>street</th>\n",
       "      <th>grill</th>\n",
       "      <th>slay</th>\n",
       "      <th>privatis</th>\n",
       "      <th>exist</th>\n",
       "      <th>lordbaconfri</th>\n",
       "      <th>manila</th>\n",
       "      <th>trip</th>\n",
       "      <th>...</th>\n",
       "      <th>👏👏</th>\n",
       "      <th>davidhf54</th>\n",
       "      <th>engag</th>\n",
       "      <th>team</th>\n",
       "      <th>aranitsi</th>\n",
       "      <th>jackfostr</th>\n",
       "      <th>leagu</th>\n",
       "      <th>reynold</th>\n",
       "      <th>huh</th>\n",
       "      <th>uniteright</th>\n",
       "    </tr>\n",
       "  </thead>\n",
       "  <tbody>\n",
       "  </tbody>\n",
       "</table>\n",
       "<p>0 rows × 5476 columns</p>\n",
       "</div>"
      ],
      "text/plain": [
       "Empty DataFrame\n",
       "Columns: [hardli, o…, street, grill, slay, privatis, exist, lordbaconfri, manila, trip, tougher, labournorth, immigr, confirm, louisemensch, xxxxxx, elig, repeat, heed, khan, percentag, sensibl, man, franceshind, special, tumour, duo, categor, yougov, boycot, peanutbutl, confetti, become…, caseybatchelor, chenoweth, duck, recit, dure, favour, miss, vat, withthewalk, h20ake, cull, acc, jenni, cherylwalmsley, top, anesthesia, dur, £000, creatur, dayloladay, eleccion, macaulich, colleg, loudest, niaaaaaaaaaaaaaaaaaaaaaaaaaaa, lycra, snapchatm, amount, ohanakian, carriageway, paulrutherford8, faceweather82, dad, ail, unionist, fault, 3rd, b3comelegend, primer, moe, spread, theweathernetuk, road, like, ejay8878, calum5so, enterprison, winner, turnip, stumbl, reporterroya, sketch, countri, 44, float, b2b, asknigelfarag, muchhh, similar, respect, trek, tanyaburr, milifandom, celebs4indi, enter, themikewebst, 3~5, ...]\n",
       "Index: []\n",
       "\n",
       "[0 rows x 5476 columns]"
      ]
     },
     "execution_count": 19,
     "metadata": {},
     "output_type": "execute_result"
    }
   ],
   "source": [
    "td_matrix"
   ]
  },
  {
   "cell_type": "code",
   "execution_count": 20,
   "metadata": {},
   "outputs": [],
   "source": [
    "# construting the term_doc matrix with the counts as values\n",
    "# This might take some time\n",
    "for i in tweet_count:\n",
    "    for j in range(0, len(tweet_count[i])):\n",
    "        td_matrix.loc[i,tweet_count[i][j][0]] = tweet_count[i][j][1]"
   ]
  },
  {
   "cell_type": "code",
   "execution_count": 21,
   "metadata": {},
   "outputs": [],
   "source": [
    "td_matrix = td_matrix.fillna(0)"
   ]
  },
  {
   "cell_type": "code",
   "execution_count": 22,
   "metadata": {},
   "outputs": [
    {
     "data": {
      "text/html": [
       "<div>\n",
       "<style scoped>\n",
       "    .dataframe tbody tr th:only-of-type {\n",
       "        vertical-align: middle;\n",
       "    }\n",
       "\n",
       "    .dataframe tbody tr th {\n",
       "        vertical-align: top;\n",
       "    }\n",
       "\n",
       "    .dataframe thead th {\n",
       "        text-align: right;\n",
       "    }\n",
       "</style>\n",
       "<table border=\"1\" class=\"dataframe\">\n",
       "  <thead>\n",
       "    <tr style=\"text-align: right;\">\n",
       "      <th></th>\n",
       "      <th>hardli</th>\n",
       "      <th>o…</th>\n",
       "      <th>street</th>\n",
       "      <th>grill</th>\n",
       "      <th>slay</th>\n",
       "      <th>privatis</th>\n",
       "      <th>exist</th>\n",
       "      <th>lordbaconfri</th>\n",
       "      <th>manila</th>\n",
       "      <th>trip</th>\n",
       "      <th>...</th>\n",
       "      <th>👏👏</th>\n",
       "      <th>davidhf54</th>\n",
       "      <th>engag</th>\n",
       "      <th>team</th>\n",
       "      <th>aranitsi</th>\n",
       "      <th>jackfostr</th>\n",
       "      <th>leagu</th>\n",
       "      <th>reynold</th>\n",
       "      <th>huh</th>\n",
       "      <th>uniteright</th>\n",
       "    </tr>\n",
       "  </thead>\n",
       "  <tbody>\n",
       "    <tr>\n",
       "      <th>2036</th>\n",
       "      <td>0.0</td>\n",
       "      <td>0.0</td>\n",
       "      <td>0.0</td>\n",
       "      <td>0.0</td>\n",
       "      <td>0.0</td>\n",
       "      <td>0.0</td>\n",
       "      <td>0.0</td>\n",
       "      <td>0.0</td>\n",
       "      <td>0.0</td>\n",
       "      <td>0.0</td>\n",
       "      <td>...</td>\n",
       "      <td>0.0</td>\n",
       "      <td>0.0</td>\n",
       "      <td>0.0</td>\n",
       "      <td>0.0</td>\n",
       "      <td>0.0</td>\n",
       "      <td>0.0</td>\n",
       "      <td>0.0</td>\n",
       "      <td>0.0</td>\n",
       "      <td>0.0</td>\n",
       "      <td>0.0</td>\n",
       "    </tr>\n",
       "    <tr>\n",
       "      <th>2037</th>\n",
       "      <td>0.0</td>\n",
       "      <td>0.0</td>\n",
       "      <td>0.0</td>\n",
       "      <td>0.0</td>\n",
       "      <td>0.0</td>\n",
       "      <td>0.0</td>\n",
       "      <td>0.0</td>\n",
       "      <td>0.0</td>\n",
       "      <td>0.0</td>\n",
       "      <td>0.0</td>\n",
       "      <td>...</td>\n",
       "      <td>0.0</td>\n",
       "      <td>0.0</td>\n",
       "      <td>0.0</td>\n",
       "      <td>0.0</td>\n",
       "      <td>0.0</td>\n",
       "      <td>0.0</td>\n",
       "      <td>0.0</td>\n",
       "      <td>0.0</td>\n",
       "      <td>0.0</td>\n",
       "      <td>0.0</td>\n",
       "    </tr>\n",
       "    <tr>\n",
       "      <th>2038</th>\n",
       "      <td>0.0</td>\n",
       "      <td>0.0</td>\n",
       "      <td>0.0</td>\n",
       "      <td>0.0</td>\n",
       "      <td>0.0</td>\n",
       "      <td>0.0</td>\n",
       "      <td>0.0</td>\n",
       "      <td>0.0</td>\n",
       "      <td>0.0</td>\n",
       "      <td>0.0</td>\n",
       "      <td>...</td>\n",
       "      <td>0.0</td>\n",
       "      <td>0.0</td>\n",
       "      <td>0.0</td>\n",
       "      <td>0.0</td>\n",
       "      <td>0.0</td>\n",
       "      <td>0.0</td>\n",
       "      <td>0.0</td>\n",
       "      <td>0.0</td>\n",
       "      <td>0.0</td>\n",
       "      <td>0.0</td>\n",
       "    </tr>\n",
       "    <tr>\n",
       "      <th>2039</th>\n",
       "      <td>0.0</td>\n",
       "      <td>0.0</td>\n",
       "      <td>0.0</td>\n",
       "      <td>0.0</td>\n",
       "      <td>0.0</td>\n",
       "      <td>0.0</td>\n",
       "      <td>0.0</td>\n",
       "      <td>0.0</td>\n",
       "      <td>0.0</td>\n",
       "      <td>0.0</td>\n",
       "      <td>...</td>\n",
       "      <td>0.0</td>\n",
       "      <td>0.0</td>\n",
       "      <td>0.0</td>\n",
       "      <td>0.0</td>\n",
       "      <td>0.0</td>\n",
       "      <td>0.0</td>\n",
       "      <td>0.0</td>\n",
       "      <td>0.0</td>\n",
       "      <td>0.0</td>\n",
       "      <td>0.0</td>\n",
       "    </tr>\n",
       "    <tr>\n",
       "      <th>2040</th>\n",
       "      <td>0.0</td>\n",
       "      <td>0.0</td>\n",
       "      <td>0.0</td>\n",
       "      <td>0.0</td>\n",
       "      <td>0.0</td>\n",
       "      <td>0.0</td>\n",
       "      <td>0.0</td>\n",
       "      <td>0.0</td>\n",
       "      <td>0.0</td>\n",
       "      <td>0.0</td>\n",
       "      <td>...</td>\n",
       "      <td>0.0</td>\n",
       "      <td>0.0</td>\n",
       "      <td>0.0</td>\n",
       "      <td>0.0</td>\n",
       "      <td>0.0</td>\n",
       "      <td>0.0</td>\n",
       "      <td>0.0</td>\n",
       "      <td>0.0</td>\n",
       "      <td>0.0</td>\n",
       "      <td>0.0</td>\n",
       "    </tr>\n",
       "  </tbody>\n",
       "</table>\n",
       "<p>5 rows × 5476 columns</p>\n",
       "</div>"
      ],
      "text/plain": [
       "      hardli   o…  street  grill  slay  privatis  exist  lordbaconfri  manila  \\\n",
       "2036     0.0  0.0     0.0    0.0   0.0       0.0    0.0           0.0     0.0   \n",
       "2037     0.0  0.0     0.0    0.0   0.0       0.0    0.0           0.0     0.0   \n",
       "2038     0.0  0.0     0.0    0.0   0.0       0.0    0.0           0.0     0.0   \n",
       "2039     0.0  0.0     0.0    0.0   0.0       0.0    0.0           0.0     0.0   \n",
       "2040     0.0  0.0     0.0    0.0   0.0       0.0    0.0           0.0     0.0   \n",
       "\n",
       "      trip     ...       👏👏  davidhf54  engag  team  aranitsi  jackfostr  \\\n",
       "2036   0.0     ...      0.0        0.0    0.0   0.0       0.0        0.0   \n",
       "2037   0.0     ...      0.0        0.0    0.0   0.0       0.0        0.0   \n",
       "2038   0.0     ...      0.0        0.0    0.0   0.0       0.0        0.0   \n",
       "2039   0.0     ...      0.0        0.0    0.0   0.0       0.0        0.0   \n",
       "2040   0.0     ...      0.0        0.0    0.0   0.0       0.0        0.0   \n",
       "\n",
       "      leagu  reynold  huh  uniteright  \n",
       "2036    0.0      0.0  0.0         0.0  \n",
       "2037    0.0      0.0  0.0         0.0  \n",
       "2038    0.0      0.0  0.0         0.0  \n",
       "2039    0.0      0.0  0.0         0.0  \n",
       "2040    0.0      0.0  0.0         0.0  \n",
       "\n",
       "[5 rows x 5476 columns]"
      ]
     },
     "execution_count": 22,
     "metadata": {},
     "output_type": "execute_result"
    }
   ],
   "source": [
    "td_matrix.tail()"
   ]
  },
  {
   "cell_type": "code",
   "execution_count": 24,
   "metadata": {},
   "outputs": [],
   "source": [
    "# construting the term_doc matrix with the tf-idf as values\n",
    "td_idf_matrix = pd.DataFrame(0, index=np.arange(0), columns=unique_words)\n",
    "for i in tweet_count:\n",
    "    for j in range(0, len(tweet_count[i])):\n",
    "        td_idf_matrix.loc[i,tweet_count[i][j][0]] = tweet_count[i][j][1] * idf[tweet_count[i][j][0]]\n",
    "td_idf_matrix = td_idf_matrix.fillna(0)"
   ]
  },
  {
   "cell_type": "code",
   "execution_count": 25,
   "metadata": {},
   "outputs": [
    {
     "data": {
      "text/html": [
       "<div>\n",
       "<style scoped>\n",
       "    .dataframe tbody tr th:only-of-type {\n",
       "        vertical-align: middle;\n",
       "    }\n",
       "\n",
       "    .dataframe tbody tr th {\n",
       "        vertical-align: top;\n",
       "    }\n",
       "\n",
       "    .dataframe thead th {\n",
       "        text-align: right;\n",
       "    }\n",
       "</style>\n",
       "<table border=\"1\" class=\"dataframe\">\n",
       "  <thead>\n",
       "    <tr style=\"text-align: right;\">\n",
       "      <th></th>\n",
       "      <th>hardli</th>\n",
       "      <th>o…</th>\n",
       "      <th>street</th>\n",
       "      <th>grill</th>\n",
       "      <th>slay</th>\n",
       "      <th>privatis</th>\n",
       "      <th>exist</th>\n",
       "      <th>lordbaconfri</th>\n",
       "      <th>manila</th>\n",
       "      <th>trip</th>\n",
       "      <th>...</th>\n",
       "      <th>👏👏</th>\n",
       "      <th>davidhf54</th>\n",
       "      <th>engag</th>\n",
       "      <th>team</th>\n",
       "      <th>aranitsi</th>\n",
       "      <th>jackfostr</th>\n",
       "      <th>leagu</th>\n",
       "      <th>reynold</th>\n",
       "      <th>huh</th>\n",
       "      <th>uniteright</th>\n",
       "    </tr>\n",
       "  </thead>\n",
       "  <tbody>\n",
       "    <tr>\n",
       "      <th>0</th>\n",
       "      <td>0.0</td>\n",
       "      <td>0.0</td>\n",
       "      <td>0.0</td>\n",
       "      <td>0.0</td>\n",
       "      <td>0.0</td>\n",
       "      <td>0.0</td>\n",
       "      <td>0.0</td>\n",
       "      <td>0.0</td>\n",
       "      <td>0.0</td>\n",
       "      <td>0.0</td>\n",
       "      <td>...</td>\n",
       "      <td>0.0</td>\n",
       "      <td>0.0</td>\n",
       "      <td>0.0</td>\n",
       "      <td>0.000000</td>\n",
       "      <td>0.0</td>\n",
       "      <td>0.0</td>\n",
       "      <td>0.0</td>\n",
       "      <td>0.0</td>\n",
       "      <td>0.0</td>\n",
       "      <td>0.0</td>\n",
       "    </tr>\n",
       "    <tr>\n",
       "      <th>1</th>\n",
       "      <td>0.0</td>\n",
       "      <td>0.0</td>\n",
       "      <td>0.0</td>\n",
       "      <td>0.0</td>\n",
       "      <td>0.0</td>\n",
       "      <td>0.0</td>\n",
       "      <td>0.0</td>\n",
       "      <td>0.0</td>\n",
       "      <td>0.0</td>\n",
       "      <td>0.0</td>\n",
       "      <td>...</td>\n",
       "      <td>0.0</td>\n",
       "      <td>0.0</td>\n",
       "      <td>0.0</td>\n",
       "      <td>0.000000</td>\n",
       "      <td>0.0</td>\n",
       "      <td>0.0</td>\n",
       "      <td>0.0</td>\n",
       "      <td>0.0</td>\n",
       "      <td>0.0</td>\n",
       "      <td>0.0</td>\n",
       "    </tr>\n",
       "    <tr>\n",
       "      <th>2</th>\n",
       "      <td>0.0</td>\n",
       "      <td>0.0</td>\n",
       "      <td>0.0</td>\n",
       "      <td>0.0</td>\n",
       "      <td>0.0</td>\n",
       "      <td>0.0</td>\n",
       "      <td>0.0</td>\n",
       "      <td>0.0</td>\n",
       "      <td>0.0</td>\n",
       "      <td>0.0</td>\n",
       "      <td>...</td>\n",
       "      <td>0.0</td>\n",
       "      <td>0.0</td>\n",
       "      <td>0.0</td>\n",
       "      <td>0.000000</td>\n",
       "      <td>0.0</td>\n",
       "      <td>0.0</td>\n",
       "      <td>0.0</td>\n",
       "      <td>0.0</td>\n",
       "      <td>0.0</td>\n",
       "      <td>0.0</td>\n",
       "    </tr>\n",
       "    <tr>\n",
       "      <th>3</th>\n",
       "      <td>0.0</td>\n",
       "      <td>0.0</td>\n",
       "      <td>0.0</td>\n",
       "      <td>0.0</td>\n",
       "      <td>0.0</td>\n",
       "      <td>0.0</td>\n",
       "      <td>0.0</td>\n",
       "      <td>0.0</td>\n",
       "      <td>0.0</td>\n",
       "      <td>0.0</td>\n",
       "      <td>...</td>\n",
       "      <td>0.0</td>\n",
       "      <td>0.0</td>\n",
       "      <td>0.0</td>\n",
       "      <td>3.008813</td>\n",
       "      <td>0.0</td>\n",
       "      <td>0.0</td>\n",
       "      <td>0.0</td>\n",
       "      <td>0.0</td>\n",
       "      <td>0.0</td>\n",
       "      <td>0.0</td>\n",
       "    </tr>\n",
       "    <tr>\n",
       "      <th>4</th>\n",
       "      <td>0.0</td>\n",
       "      <td>0.0</td>\n",
       "      <td>0.0</td>\n",
       "      <td>0.0</td>\n",
       "      <td>0.0</td>\n",
       "      <td>0.0</td>\n",
       "      <td>0.0</td>\n",
       "      <td>0.0</td>\n",
       "      <td>0.0</td>\n",
       "      <td>0.0</td>\n",
       "      <td>...</td>\n",
       "      <td>0.0</td>\n",
       "      <td>0.0</td>\n",
       "      <td>0.0</td>\n",
       "      <td>0.000000</td>\n",
       "      <td>0.0</td>\n",
       "      <td>0.0</td>\n",
       "      <td>0.0</td>\n",
       "      <td>0.0</td>\n",
       "      <td>0.0</td>\n",
       "      <td>0.0</td>\n",
       "    </tr>\n",
       "  </tbody>\n",
       "</table>\n",
       "<p>5 rows × 5476 columns</p>\n",
       "</div>"
      ],
      "text/plain": [
       "   hardli   o…  street  grill  slay  privatis  exist  lordbaconfri  manila  \\\n",
       "0     0.0  0.0     0.0    0.0   0.0       0.0    0.0           0.0     0.0   \n",
       "1     0.0  0.0     0.0    0.0   0.0       0.0    0.0           0.0     0.0   \n",
       "2     0.0  0.0     0.0    0.0   0.0       0.0    0.0           0.0     0.0   \n",
       "3     0.0  0.0     0.0    0.0   0.0       0.0    0.0           0.0     0.0   \n",
       "4     0.0  0.0     0.0    0.0   0.0       0.0    0.0           0.0     0.0   \n",
       "\n",
       "   trip     ...       👏👏  davidhf54  engag      team  aranitsi  jackfostr  \\\n",
       "0   0.0     ...      0.0        0.0    0.0  0.000000       0.0        0.0   \n",
       "1   0.0     ...      0.0        0.0    0.0  0.000000       0.0        0.0   \n",
       "2   0.0     ...      0.0        0.0    0.0  0.000000       0.0        0.0   \n",
       "3   0.0     ...      0.0        0.0    0.0  3.008813       0.0        0.0   \n",
       "4   0.0     ...      0.0        0.0    0.0  0.000000       0.0        0.0   \n",
       "\n",
       "   leagu  reynold  huh  uniteright  \n",
       "0    0.0      0.0  0.0         0.0  \n",
       "1    0.0      0.0  0.0         0.0  \n",
       "2    0.0      0.0  0.0         0.0  \n",
       "3    0.0      0.0  0.0         0.0  \n",
       "4    0.0      0.0  0.0         0.0  \n",
       "\n",
       "[5 rows x 5476 columns]"
      ]
     },
     "execution_count": 25,
     "metadata": {},
     "output_type": "execute_result"
    }
   ],
   "source": [
    "td_idf_matrix.head()"
   ]
  },
  {
   "cell_type": "markdown",
   "metadata": {},
   "source": [
    "### Single Value Decomposition"
   ]
  },
  {
   "cell_type": "code",
   "execution_count": 26,
   "metadata": {},
   "outputs": [],
   "source": [
    "import numpy as np"
   ]
  },
  {
   "cell_type": "code",
   "execution_count": 27,
   "metadata": {},
   "outputs": [],
   "source": [
    "u, s, vh = np.linalg.svd(td_matrix, full_matrices=True)"
   ]
  },
  {
   "cell_type": "code",
   "execution_count": 28,
   "metadata": {},
   "outputs": [
    {
     "data": {
      "text/plain": [
       "array([[ -3.20572170e-02,   3.16178092e-02,  -2.08045993e-02, ...,\n",
       "          6.35542981e-17,  -4.31919040e-17,  -3.19893851e-16],\n",
       "       [ -2.02931049e-02,   1.87509221e-02,  -1.44775436e-02, ...,\n",
       "          8.30961539e-16,   1.85063963e-16,  -9.77894301e-16],\n",
       "       [ -4.96179963e-03,  -3.53005544e-05,  -1.66062250e-03, ...,\n",
       "         -3.14354348e-16,  -1.11797634e-16,   2.88156759e-16],\n",
       "       ..., \n",
       "       [ -5.54745734e-03,  -2.98621159e-03,   4.73112718e-06, ...,\n",
       "          3.96817995e-17,  -7.32920669e-17,  -2.25514052e-17],\n",
       "       [ -3.88954891e-04,  -2.97824761e-04,  -8.78093935e-05, ...,\n",
       "          3.98986399e-17,   6.82369742e-18,  -5.98479599e-17],\n",
       "       [ -7.32328599e-03,   4.91526545e-03,  -4.01170003e-03, ...,\n",
       "          5.72458747e-17,   0.00000000e+00,   0.00000000e+00]])"
      ]
     },
     "execution_count": 28,
     "metadata": {},
     "output_type": "execute_result"
    }
   ],
   "source": [
    "u"
   ]
  },
  {
   "cell_type": "code",
   "execution_count": 29,
   "metadata": {},
   "outputs": [
    {
     "data": {
      "text/plain": [
       "array([  3.28739744e+01,   2.72807114e+01,   2.59945052e+01, ...,\n",
       "         1.40191769e-16,   1.25920513e-16,   4.89979653e-17])"
      ]
     },
     "execution_count": 29,
     "metadata": {},
     "output_type": "execute_result"
    }
   ],
   "source": [
    "s"
   ]
  },
  {
   "cell_type": "code",
   "execution_count": 30,
   "metadata": {},
   "outputs": [
    {
     "data": {
      "text/plain": [
       "array([[ -1.67249912e-03,  -2.43661380e-03,  -1.22169493e-03, ...,\n",
       "         -7.15150164e-05,  -1.18694214e-05,  -9.65257336e-04],\n",
       "       [  1.72194024e-04,  -2.68004598e-03,  -6.13581519e-04, ...,\n",
       "          4.59609600e-05,  -9.77374387e-06,   1.30170797e-03],\n",
       "       [  9.47866451e-04,   2.44640776e-04,   1.55913820e-03, ...,\n",
       "         -3.39622809e-05,  -2.06354227e-06,   8.46916522e-04],\n",
       "       ..., \n",
       "       [ -2.83757450e-03,   4.24741952e-03,  -1.10995344e-03, ...,\n",
       "          7.53224159e-01,  -9.45268368e-04,  -3.14792304e-03],\n",
       "       [  1.33306622e-04,  -1.07940419e-03,   2.91742815e-04, ...,\n",
       "         -8.98126431e-04,   6.00364456e-01,  -1.33642757e-03],\n",
       "       [ -4.47830473e-03,   1.75126562e-03,   1.92186187e-03, ...,\n",
       "         -1.77539234e-03,  -4.61289883e-04,   8.87913202e-01]])"
      ]
     },
     "execution_count": 30,
     "metadata": {},
     "output_type": "execute_result"
    }
   ],
   "source": [
    "vh"
   ]
  },
  {
   "cell_type": "markdown",
   "metadata": {},
   "source": [
    "### MRR for Query \"Nigel Farage leading new pro brexit party\""
   ]
  },
  {
   "cell_type": "markdown",
   "metadata": {},
   "source": [
    "1. Create a new column based on the query (e.g. column \"Nigel\" is 1, column \"Sun\" is 0, etc.)\n",
    "2. Reduce SVD output Size to 100 dimensions\n",
    "3. Transform the query row into this new space\n",
    "4. Calculate the cosine similarity between all documents, in our case tweets, and the query\n",
    "5. Create a Rank for each tweet and calculaten the MRR (Mean Reciprocal Rank)"
   ]
  },
  {
   "cell_type": "code",
   "execution_count": 31,
   "metadata": {},
   "outputs": [],
   "source": [
    "# Step 1\n",
    "query = \"Nigel Farage leading new pro brexit party\""
   ]
  },
  {
   "cell_type": "code",
   "execution_count": 32,
   "metadata": {},
   "outputs": [],
   "source": [
    "query = tt.tokenizer(query)\n",
    "query = tt.normalizer(query)\n",
    "query = tt.stemmer(query)"
   ]
  },
  {
   "cell_type": "code",
   "execution_count": 33,
   "metadata": {},
   "outputs": [
    {
     "data": {
      "text/plain": [
       "['nigel', 'farag', 'lead', 'new', 'pro', 'brexit', 'parti']"
      ]
     },
     "execution_count": 33,
     "metadata": {},
     "output_type": "execute_result"
    }
   ],
   "source": [
    "query"
   ]
  },
  {
   "cell_type": "code",
   "execution_count": 34,
   "metadata": {},
   "outputs": [],
   "source": [
    "query_matrix = pd.DataFrame(0, index=np.arange(1), columns=unique_words)\n",
    "for elem in query:\n",
    "    if elem in unique_words:\n",
    "        query_matrix.loc[0,elem] = 1"
   ]
  },
  {
   "cell_type": "code",
   "execution_count": 35,
   "metadata": {},
   "outputs": [],
   "source": [
    "# Step 2\n",
    "from sklearn.decomposition import TruncatedSVD\n",
    "\n",
    "svd = TruncatedSVD(n_components=100, n_iter=7, random_state=0) # create a model\n",
    "svd_model = svd.fit(td_matrix)"
   ]
  },
  {
   "cell_type": "code",
   "execution_count": 36,
   "metadata": {},
   "outputs": [],
   "source": [
    "svd_matrix = svd_model.transform(td_matrix)"
   ]
  },
  {
   "cell_type": "code",
   "execution_count": 37,
   "metadata": {},
   "outputs": [],
   "source": [
    "# Step 3\n",
    "svd_query = svd_model.transform(query_matrix)"
   ]
  },
  {
   "cell_type": "code",
   "execution_count": 38,
   "metadata": {},
   "outputs": [],
   "source": [
    "# Step 4\n",
    "from sklearn.metrics.pairwise import cosine_similarity\n",
    "similarity_matrix = cosine_similarity(svd_matrix, svd_query, dense_output=True)"
   ]
  },
  {
   "cell_type": "code",
   "execution_count": 39,
   "metadata": {},
   "outputs": [],
   "source": [
    "# Step 5\n",
    "similarity_matrix = pd.DataFrame(similarity_matrix)\n",
    "similarity_matrix[\"doc\"] = similarity_matrix.index\n",
    "similarity_matrix = similarity_matrix.sort_values(0, ascending=False)"
   ]
  },
  {
   "cell_type": "code",
   "execution_count": 40,
   "metadata": {},
   "outputs": [
    {
     "data": {
      "text/html": [
       "<div>\n",
       "<style scoped>\n",
       "    .dataframe tbody tr th:only-of-type {\n",
       "        vertical-align: middle;\n",
       "    }\n",
       "\n",
       "    .dataframe tbody tr th {\n",
       "        vertical-align: top;\n",
       "    }\n",
       "\n",
       "    .dataframe thead th {\n",
       "        text-align: right;\n",
       "    }\n",
       "</style>\n",
       "<table border=\"1\" class=\"dataframe\">\n",
       "  <thead>\n",
       "    <tr style=\"text-align: right;\">\n",
       "      <th></th>\n",
       "      <th>0</th>\n",
       "      <th>doc</th>\n",
       "    </tr>\n",
       "  </thead>\n",
       "  <tbody>\n",
       "    <tr>\n",
       "      <th>1858</th>\n",
       "      <td>0.818583</td>\n",
       "      <td>1858</td>\n",
       "    </tr>\n",
       "    <tr>\n",
       "      <th>1411</th>\n",
       "      <td>0.814598</td>\n",
       "      <td>1411</td>\n",
       "    </tr>\n",
       "    <tr>\n",
       "      <th>428</th>\n",
       "      <td>0.813816</td>\n",
       "      <td>428</td>\n",
       "    </tr>\n",
       "    <tr>\n",
       "      <th>620</th>\n",
       "      <td>0.746506</td>\n",
       "      <td>620</td>\n",
       "    </tr>\n",
       "    <tr>\n",
       "      <th>1803</th>\n",
       "      <td>0.690455</td>\n",
       "      <td>1803</td>\n",
       "    </tr>\n",
       "  </tbody>\n",
       "</table>\n",
       "</div>"
      ],
      "text/plain": [
       "             0   doc\n",
       "1858  0.818583  1858\n",
       "1411  0.814598  1411\n",
       "428   0.813816   428\n",
       "620   0.746506   620\n",
       "1803  0.690455  1803"
      ]
     },
     "execution_count": 40,
     "metadata": {},
     "output_type": "execute_result"
    }
   ],
   "source": [
    "similarity_matrix.head()"
   ]
  },
  {
   "cell_type": "code",
   "execution_count": 50,
   "metadata": {},
   "outputs": [
    {
     "name": "stdout",
     "output_type": "stream",
     "text": [
      "['nigel', 'farag', 'speak', 'askfarag']\n",
      "['sooo', 'nigel', 'farag', 'interview', 'birmingham']\n",
      "['nigel', 'farag', 'entertain', '😂']\n",
      "['isitok', 'paxman', 'give', 'thought', 'nigel', 'farag']\n",
      "['whi', 'nigel', 'farag', 'stand', 'like']\n"
     ]
    }
   ],
   "source": [
    "for index, row in similarity_matrix.head().iterrows():\n",
    "    print(reduced_tweets[index])"
   ]
  }
 ],
 "metadata": {
  "kernelspec": {
   "display_name": "Python 3",
   "language": "python",
   "name": "python3"
  },
  "language_info": {
   "codemirror_mode": {
    "name": "ipython",
    "version": 3
   },
   "file_extension": ".py",
   "mimetype": "text/x-python",
   "name": "python",
   "nbconvert_exporter": "python",
   "pygments_lexer": "ipython3",
   "version": "3.6.7"
  }
 },
 "nbformat": 4,
 "nbformat_minor": 2
}
